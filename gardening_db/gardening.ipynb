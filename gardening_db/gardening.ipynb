{
 "cells": [
  {
   "cell_type": "markdown",
   "metadata": {},
   "source": [
    "# Import garden.db"
   ]
  },
  {
   "cell_type": "markdown",
   "metadata": {},
   "source": [
    "### 3.1 all plants in db"
   ]
  },
  {
   "cell_type": "code",
   "execution_count": null,
   "metadata": {},
   "outputs": [],
   "source": [
    "import sqlite3\n",
    "\n",
    "# Connect to the database\n",
    "conn = sqlite3.connect('gardening.db')\n",
    "c = conn.cursor()\n",
    "\n",
    "import readline\n",
    "\n",
    "# Connect to the database\n",
    "conn = sqlite3.connect('gardening.db')\n",
    "c = conn.cursor()\n",
    "\n",
    "# Set up readline for console input\n",
    "readline.parse_and_bind(\"tab: complete\")\n",
    "readline.set_history_length(1000)\n",
    "\n",
    "# Define a function to execute a SQL query\n",
    "def execute_query(query):\n",
    "    try:\n",
    "        print(\"=========================================\")\n",
    "        # Execute the SQL query\n",
    "        c.execute(query)\n",
    "\n",
    "        # Get column names\n",
    "        column_names = [description[0] for description in c.description] if c.description else []\n",
    "\n",
    "        # Print column names\n",
    "        for col_name in column_names:\n",
    "            print(col_name, end=\"\\t\")\n",
    "        if column_names:\n",
    "            print()  # New line after column names\n",
    "\n",
    "\n",
    "        results = c.fetchall()\n",
    "\n",
    "        # Print the results\n",
    "        if len(results) == 0:\n",
    "            print(\"No results found.\")\n",
    "        else:\n",
    "            for row in results:\n",
    "                print(row)\n",
    "\n",
    "        print(\"=========================================\")\n",
    "        \n",
    "        # Commit the changes to the database\n",
    "        conn.commit()\n",
    "\n",
    "        # Print a message for successful INSERT, UPDATE, or DELETE statements\n",
    "        if c.rowcount > 0:\n",
    "            print(\"Query executed successfully.\")\n",
    "\n",
    "        # Print the last inserted row ID for INSERT statements\n",
    "        if query.lower().startswith('insert'):\n",
    "            print(\"Last inserted row ID:\", c.lastrowid)\n",
    "\n",
    "    except sqlite3.Error as e:\n",
    "        # Print an error message if the query fails\n",
    "        print(\"An error occurred:\", e)\n",
    "\n",
    "# Loop to prompt the user for input\n",
    "query_lines = []\n",
    "while True:\n",
    "    try:\n",
    "        # Check if it's the beginning of a new command\n",
    "        if not query_lines:\n",
    "            prompt = \"Enter a SQL query (or 'exit' to quit): \\n\"\n",
    "        else:\n",
    "            prompt = ''\n",
    "\n",
    "        line = input(prompt)\n",
    "        \n",
    "        # If the user just presses Enter without typing anything, consider it as execution time\n",
    "        if not line.strip() and query_lines:\n",
    "            query = ' '.join(query_lines)\n",
    "            query_lines.clear()\n",
    "            execute_query(query)\n",
    "        else:\n",
    "            query_lines.append(line)\n",
    "\n",
    "    except KeyboardInterrupt:\n",
    "        # Handle Ctrl+C to exit the loop cleanly\n",
    "        print(\"\\nExiting...\")\n",
    "        break\n",
    "\n",
    "    # Check if the user wants to exit\n",
    "    if line.lower() == 'exit':\n",
    "        break\n",
    "\n",
    "    # Handle up arrow to load last query (this remains unchanged, but might need a different approach)\n",
    "    if line == '':\n",
    "        query = readline.get_history_item(readline.get_current_history_length())\n",
    "\n",
    "    # Add the query to the history (this remains unchanged)\n",
    "    readline.add_history(line)\n",
    "\n"
   ]
  },
  {
   "cell_type": "code",
   "execution_count": null,
   "metadata": {},
   "outputs": [],
   "source": [
    "query = \"\"\"\n",
    "SELECT pname\n",
    "FROM plant\n",
    "WHERE ptype IN ('עץ פרי', 'עץ נוי');\n",
    "\"\"\"\n",
    "execute_query(query)"
   ]
  },
  {
   "cell_type": "markdown",
   "metadata": {},
   "source": [
    "career-readiness-week-1-Dor-sketch\n",
    "\n",
    "https://github.com/github-student-developer-pack/career-readiness-week-1-Dor-sketch\n",
    "\n",
    "\n"
   ]
  },
  {
   "cell_type": "code",
   "execution_count": null,
   "metadata": {},
   "outputs": [],
   "source": [
    "# Close the database connection\n",
    "conn.close()\n"
   ]
  },
  {
   "cell_type": "markdown",
   "metadata": {},
   "source": [
    "# 3 using ext sql"
   ]
  },
  {
   "cell_type": "code",
   "execution_count": null,
   "metadata": {},
   "outputs": [],
   "source": [
    "%load_ext sql"
   ]
  },
  {
   "cell_type": "code",
   "execution_count": null,
   "metadata": {},
   "outputs": [],
   "source": [
    "%sql sqlite:///gardening.db"
   ]
  },
  {
   "cell_type": "markdown",
   "metadata": {},
   "source": [
    "# SUBQURRIES"
   ]
  },
  {
   "cell_type": "markdown",
   "metadata": {},
   "source": [
    "## 3.22 plant with max size using subquiry"
   ]
  },
  {
   "cell_type": "code",
   "execution_count": null,
   "metadata": {
    "vscode": {
     "languageId": "sql"
    }
   },
   "outputs": [],
   "source": [
    "%%sql\n",
    "SELECT pname\n",
    "FROM plant\n",
    "WHERE ptype IN ('עץ פרי', 'עץ נוי');"
   ]
  },
  {
   "cell_type": "code",
   "execution_count": null,
   "metadata": {
    "vscode": {
     "languageId": "sql"
    }
   },
   "outputs": [],
   "source": [
    "%%sql\n",
    "-- # 3.22 plant with max size using subquiry\n",
    "-- ALL operator not supported!!!\n",
    "select pname as tallest_plant\n",
    "from plant\n",
    "where pmaxheight >=all(select pmaxheight from plant);\n"
   ]
  },
  {
   "cell_type": "code",
   "execution_count": null,
   "metadata": {
    "vscode": {
     "languageId": "sql"
    }
   },
   "outputs": [],
   "source": [
    "%%sql\n",
    "-- 3.22\n",
    "select pname as tallest_plant\n",
    "from plant\n",
    "where pmaxheight = (select max(pmaxheight) from plant);"
   ]
  },
  {
   "cell_type": "markdown",
   "metadata": {},
   "source": [
    "## 3.23 anames where heights diffrences is the biggest"
   ]
  },
  {
   "cell_type": "markdown",
   "metadata": {},
   "source": [
    "subqury inside having line"
   ]
  },
  {
   "cell_type": "code",
   "execution_count": null,
   "metadata": {
    "vscode": {
     "languageId": "sql"
    }
   },
   "outputs": [],
   "source": [
    "%%sql\n",
    "select aname\n",
    "from plant, plantingmap\n",
    "where plant.pname = plantingmap.pname\n",
    "group by aname\n",
    "having (max(pmaxheight)-min(pmaxheight)) >= all\n",
    "    (select )"
   ]
  },
  {
   "cell_type": "markdown",
   "metadata": {},
   "source": [
    "# EXIST - check if there is a table in a subquary\n",
    "retutn true / FALSE\n",
    "NEED SUBQUIRRY!!!\n",
    "\n",
    "a * querry returns  full rows..."
   ]
  },
  {
   "cell_type": "code",
   "execution_count": null,
   "metadata": {
    "vscode": {
     "languageId": "sql"
    }
   },
   "outputs": [],
   "source": [
    "%%sql\n",
    "-- 3.24 find a plant that is planted in only one anmae\n",
    "SELECT p1.pname\n",
    "FROM plantingmap AS p1\n",
    "WHERE NOT EXISTS (\n",
    "    SELECT *\n",
    "    FROM plantingmap AS p2\n",
    "    WHERE p1.pname = p2.pname\n",
    "    AND p1.aname <> p2.aname\n",
    ");"
   ]
  },
  {
   "cell_type": "markdown",
   "metadata": {
    "vscode": {
     "languageId": "sql"
    }
   },
   "source": [
    "wrong!!!! - I groped by aname instead of pname!!!!"
   ]
  },
  {
   "cell_type": "code",
   "execution_count": null,
   "metadata": {
    "vscode": {
     "languageId": "sql"
    }
   },
   "outputs": [],
   "source": [
    "%%sql\n",
    "-- 3.24 again but with grouping\n",
    "--  maybe count?\n",
    "\n",
    "select pname\n",
    "from plantingmap\n",
    "group by aname\n",
    "having count (aname) = 1;"
   ]
  },
  {
   "cell_type": "code",
   "execution_count": null,
   "metadata": {
    "vscode": {
     "languageId": "sql"
    }
   },
   "outputs": [],
   "source": [
    "%%sql \n",
    "-- trying again\n",
    "\n",
    "select pname\n",
    "from plantingmap\n",
    "group by pname\n",
    "having count(distinct aname) = 1;"
   ]
  },
  {
   "cell_type": "markdown",
   "metadata": {},
   "source": [
    "show anames\n",
    "from the plantingmap\n",
    "group by anames\n",
    "where aname not exiest in\n",
    "    welect pnames from plantingmap as p2\n",
    "    where p2.aname = 'שדרת הזמיר'\n",
    "    and p2.aname <> p1.aname\n",
    "\n",
    "\n",
    "לא קיים בהן צמח שלא קיים בשדרות הזמיר\n",
    "\n",
    "\n",
    "    The GROUP BY should come after the WHERE clause.\n",
    "    The exists operator is used to determine the existence of rows in a subquery. It doesn't work directly with column values like in. The subquery with exists should be constructed using a correlated subquery.\n",
    "    In your subquery, you have written p1.panme which seems to be a typo. It should probably be p1.pname.\n",
    "    It's generally better to structure your query in a more readable format.\n",
    "\n",
    "Let me correct these issues and provide you with a new query:\n",
    "\n",
    "```sql\n",
    "\n",
    "SELECT DISTINCT p1.aname\n",
    "FROM plantingmap AS p1\n",
    "WHERE NOT EXISTS (\n",
    "    SELECT 1\n",
    "    FROM plantingmap AS p2\n",
    "    WHERE p2.aname = 'שדרות הזמיר'\n",
    "      AND p2.pname NOT IN (\n",
    "          SELECT pname\n",
    "          FROM plantingmap\n",
    "          WHERE aname = p1.aname\n",
    "      )\n",
    ");\n",
    "```\n",
    "This query selects all aname values where there isn't a plant\n",
    " (pname) in 'שדרות הזמיר' that doesn't exist in that aname's list of plants.\n"
   ]
  },
  {
   "cell_type": "code",
   "execution_count": null,
   "metadata": {
    "vscode": {
     "languageId": "sql"
    }
   },
   "outputs": [],
   "source": [
    "%%sql\n",
    "--3.25 find anames that have at least all plants from 'שדרות הזמיר'\n",
    "-- wrong!!! I write \"exist\" instead of \"exists\"\n",
    "select distinct p1.aname\n",
    "from plantingmap as p1\n",
    "group by aname\n",
    "where p1.pname not exists in\n",
    "    (select p1.panme from plantingmap as p2\n",
    "    where p2.aname = 'שדרות הזמיר'\n",
    "    and p2.pname <> p1.pname);\n"
   ]
  },
  {
   "cell_type": "code",
   "execution_count": null,
   "metadata": {
    "vscode": {
     "languageId": "sql"
    }
   },
   "outputs": [],
   "source": [
    "%%sql\n",
    "\n",
    "SELECT DISTINCT p1.aname\n",
    "FROM plantingmap AS p1\n",
    "WHERE NOT EXISTS (\n",
    "    SELECT 1\n",
    "    FROM plantingmap AS p2\n",
    "    WHERE p2.aname = 'שדרות הזמיר'\n",
    "    -- wrong !!! and p2.pname <> p1.pname\n",
    "    AND p2.pname NOT IN (\n",
    "        SELECT pname\n",
    "        FROM plantingmap\n",
    "        where aname = p1.aname\n",
    "    )\n",
    ")"
   ]
  },
  {
   "cell_type": "code",
   "execution_count": null,
   "metadata": {
    "vscode": {
     "languageId": "sql"
    }
   },
   "outputs": [],
   "source": [
    "%%sql\n",
    "-- 3.25\n",
    "SELECT DISTINCT P.aname\n",
    "FROM plantingmap AS P\n",
    "WHERE NOT EXISTS (SELECT 0\n",
    "                  FROM plantingmap\n",
    "                  WHERE aname = 'שדרות הזמיר'\n",
    "                    AND pname NOT IN \n",
    "                     (SELECT P1.pname\n",
    "                      FROM plantingmap as P1\n",
    "                      where P.aname = P1.aname)\n",
    "                 );"
   ]
  },
  {
   "cell_type": "markdown",
   "metadata": {},
   "source": [
    "-- 3.26: 3.24 - find plant that exist in at most 1 anme\n",
    "-- now with unique\n",
    "\n",
    "wrong! its possible that a plant wont be in any aname!!!!"
   ]
  },
  {
   "cell_type": "code",
   "execution_count": null,
   "metadata": {
    "vscode": {
     "languageId": "sql"
    }
   },
   "outputs": [],
   "source": [
    "%%sql\n",
    "\n",
    "select aname\n",
    "from plantingmap\n",
    "where unique (select p1.pname\n",
    "                from plantingmap as p1\n",
    "                where p1.aname <> aname\n",
    "                  and p1.pname = pname);"
   ]
  },
  {
   "cell_type": "code",
   "execution_count": null,
   "metadata": {
    "vscode": {
     "languageId": "sql"
    }
   },
   "outputs": [],
   "source": [
    "%%sql\n",
    "\n",
    "select pname\n",
    "from plant as P1\n",
    "where unique (select pname\n",
    "              from palntingmap as P2\n",
    "              where P1.pname = P2.pname  );"
   ]
  },
  {
   "cell_type": "markdown",
   "metadata": {},
   "source": [
    "# EDITING DB"
   ]
  },
  {
   "cell_type": "code",
   "execution_count": null,
   "metadata": {
    "vscode": {
     "languageId": "sql"
    }
   },
   "outputs": [],
   "source": [
    "%%sql\n",
    "INSERT INTO plant (pname, ptype, pdiameter, pmaxheight) \n",
    "VALUES ('Sunflower', 'flower', 10, 20);"
   ]
  },
  {
   "cell_type": "code",
   "execution_count": null,
   "metadata": {
    "vscode": {
     "languageId": "sql"
    }
   },
   "outputs": [],
   "source": [
    "%%sql\n",
    "delete from plant\n",
    "where pname = 'Sunflower';"
   ]
  },
  {
   "cell_type": "code",
   "execution_count": null,
   "metadata": {
    "vscode": {
     "languageId": "sql"
    }
   },
   "outputs": [],
   "source": [
    "%%sql\n",
    "\n",
    "insert into plant\n",
    "    values ('שזיף דובדבני', 'עץ נוי', 4.00, 7.00),\n",
    "            ('כליל החורש', 'עץ נוי', 3.00, 4.00);"
   ]
  },
  {
   "cell_type": "code",
   "execution_count": null,
   "metadata": {
    "vscode": {
     "languageId": "sql"
    }
   },
   "outputs": [],
   "source": [
    "%%sql\n",
    "\n",
    "insert into plantingmap\n",
    "    select 'שזיף דובדבני', aname, amount\n",
    "    from plantingmap\n",
    "    where pname = 'אורן ירושלים';"
   ]
  },
  {
   "cell_type": "code",
   "execution_count": null,
   "metadata": {
    "vscode": {
     "languageId": "sql"
    }
   },
   "outputs": [],
   "source": [
    "%%sql\n",
    "\n",
    "delete from plantingmap\n",
    "where pname = 'אורן ירושלים';"
   ]
  },
  {
   "cell_type": "code",
   "execution_count": null,
   "metadata": {
    "vscode": {
     "languageId": "sql"
    }
   },
   "outputs": [],
   "source": [
    "%%sql\n",
    "\n",
    "update plantingmap\n",
    "set pname = 'אורן ירושלים'\n",
    "where pname =  'שזיף דובדבני';"
   ]
  },
  {
   "cell_type": "markdown",
   "metadata": {},
   "source": [
    "# join"
   ]
  },
  {
   "cell_type": "code",
   "execution_count": null,
   "metadata": {
    "vscode": {
     "languageId": "sql"
    }
   },
   "outputs": [],
   "source": [
    "%%sql\n",
    "\n",
    "select *\n",
    "from plantingmap, area\n",
    "where plantingmap.aname = area.aname;"
   ]
  },
  {
   "cell_type": "code",
   "execution_count": null,
   "metadata": {
    "vscode": {
     "languageId": "sql"
    }
   },
   "outputs": [],
   "source": [
    "%%sql\n",
    "\n",
    "select *\n",
    "from plantingmap natural join area;"
   ]
  },
  {
   "cell_type": "markdown",
   "metadata": {},
   "source": [
    "WRONG - didnt specipid the aname after \"join on...\"\n",
    "```sql\n",
    "%%sql\n",
    "\n",
    "select alocation as CHARUV_planting_spots\n",
    "from plantingmap join area on aname           <=======\n",
    "where pname = 'חרוב מצוי';"
   ]
  },
  {
   "cell_type": "code",
   "execution_count": null,
   "metadata": {
    "vscode": {
     "languageId": "sql"
    }
   },
   "outputs": [],
   "source": [
    "%%sql\n",
    "\n",
    "select alocation as CHARUV_planting_spots\n",
    "from plantingmap join area on plantingmap.aname = area.aname\n",
    "where pname = 'חרוב מצוי';"
   ]
  },
  {
   "cell_type": "code",
   "execution_count": null,
   "metadata": {
    "vscode": {
     "languageId": "sql"
    }
   },
   "outputs": [],
   "source": [
    "%%sql\n",
    "\n",
    "select plantingmap.aname, asize, sum(amount)\n",
    "from plantingmap join area on plantingmap.aname = area.aname\n",
    "group by plantingmap.aname;"
   ]
  },
  {
   "cell_type": "code",
   "execution_count": null,
   "metadata": {
    "vscode": {
     "languageId": "sql"
    }
   },
   "outputs": [],
   "source": [
    "%%sql\n",
    "-- ILLEGAL!!!!!!\n",
    "select blah.pname, max(blah.pmaxheight)\n",
    "from plant as blah;"
   ]
  },
  {
   "cell_type": "code",
   "execution_count": null,
   "metadata": {
    "vscode": {
     "languageId": "sql"
    }
   },
   "outputs": [],
   "source": [
    "%%sql\n",
    "\n",
    "select pname, pmaxheight\n",
    "from plant\n",
    "where pmaxheight = (select max(pmaxheight) from plant);"
   ]
  },
  {
   "cell_type": "code",
   "execution_count": null,
   "metadata": {
    "vscode": {
     "languageId": "sql"
    }
   },
   "outputs": [],
   "source": [
    "%%sql\n",
    "\n",
    "select not_zamir.pname\n",
    "from plantingmap as not_zamir\n",
    "where not_zamir.aname = 'שדרות הזמיר';"
   ]
  },
  {
   "cell_type": "code",
   "execution_count": null,
   "metadata": {
    "vscode": {
     "languageId": "sql"
    }
   },
   "outputs": [],
   "source": [
    "%%sql\n",
    "\n",
    "SELECT pname\n",
    "FROM plantingmap\n",
    "WHERE aname = 'שדרות הזמיר'\n",
    "AND pname NOT IN (\n",
    "    SELECT pname\n",
    "    FROM plantingmap\n",
    "    WHERE aname = 'הטיילת'\n",
    ");"
   ]
  },
  {
   "cell_type": "code",
   "execution_count": null,
   "metadata": {
    "vscode": {
     "languageId": "sql"
    }
   },
   "outputs": [],
   "source": [
    "%%sql\n",
    "\n",
    "select aname as better_than_Zamir\n",
    "from plantingmap\n",
    "group by aname"
   ]
  },
  {
   "cell_type": "code",
   "execution_count": null,
   "metadata": {
    "vscode": {
     "languageId": "sql"
    }
   },
   "outputs": [],
   "source": [
    "%%sql\n",
    "\n",
    "select aname as better_than_Zamir\n",
    "from plantingmap\n",
    "group by aname\n",
    "having not exists\n",
    "        (select 1\n",
    "        from plantingmap as not_zamir\n",
    "        where not_zamir.pname not in\n",
    "            (select zamir.pname\n",
    "            from plantingmap as zamir\n",
    "            where zamir.aname = 'שדרות הזמיר'));"
   ]
  },
  {
   "cell_type": "markdown",
   "metadata": {},
   "source": [
    "I sould have change the order - not exist pname in the zamir, that is not in the better one!!"
   ]
  },
  {
   "cell_type": "code",
   "execution_count": null,
   "metadata": {
    "vscode": {
     "languageId": "sql"
    }
   },
   "outputs": [],
   "source": [
    "%%sql\n",
    "\n",
    "SELECT aname AS better_than_Zamir\n",
    "FROM plantingmap\n",
    "GROUP BY aname\n",
    "HAVING NOT EXISTS (\n",
    "    -- Select all plants from 'שדרות הזמיר'\n",
    "    SELECT pname\n",
    "    FROM plantingmap\n",
    "    WHERE aname = 'שדרות הזמיר'\n",
    "    EXCEPT\n",
    "    -- Remove all those plants that are also in the current aname\n",
    "    SELECT pname\n",
    "    FROM plantingmap AS same_aname\n",
    "    WHERE same_aname.aname = plantingmap.aname\n",
    ");"
   ]
  },
  {
   "cell_type": "code",
   "execution_count": null,
   "metadata": {
    "vscode": {
     "languageId": "sql"
    }
   },
   "outputs": [],
   "source": [
    "%%sql\n",
    "\n",
    "\n",
    "select not_zamir.aname as better_than_Zamir\n",
    "from plantingmap as not_zamir\n",
    "where aname <> 'שדרות הזמיר'\n",
    "group by aname\n",
    "having not exists\n",
    "    (SELECT pname\n",
    "    FROM plantingmap\n",
    "    WHERE aname = 'שדרות הזמיר'\n",
    "    AND pname NOT IN (\n",
    "        SELECT pname\n",
    "        FROM plantingmap\n",
    "        WHERE aname = not_zamir.aname)\n",
    "    );"
   ]
  }
 ],
 "metadata": {
  "kernelspec": {
   "display_name": "Python 3",
   "language": "python",
   "name": "python3"
  },
  "language_info": {
   "codemirror_mode": {
    "name": "ipython",
    "version": 3
   },
   "file_extension": ".py",
   "mimetype": "text/x-python",
   "name": "python",
   "nbconvert_exporter": "python",
   "pygments_lexer": "ipython3",
   "version": "3.10.12"
  },
  "orig_nbformat": 4
 },
 "nbformat": 4,
 "nbformat_minor": 2
}
