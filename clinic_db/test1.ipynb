{
 "cells": [
  {
   "cell_type": "code",
   "execution_count": 29,
   "metadata": {
    "vscode": {
     "languageId": "sql"
    }
   },
   "outputs": [
    {
     "name": "stdout",
     "output_type": "stream",
     "text": [
      "The sql extension is already loaded. To reload it, use:\n",
      "  %reload_ext sql\n"
     ]
    }
   ],
   "source": [
    "%load_ext sql"
   ]
  },
  {
   "cell_type": "code",
   "execution_count": 30,
   "metadata": {
    "vscode": {
     "languageId": "sql"
    }
   },
   "outputs": [],
   "source": [
    "%sql sqlite:///test1.db"
   ]
  },
  {
   "cell_type": "code",
   "execution_count": 6,
   "metadata": {
    "vscode": {
     "languageId": "sql"
    }
   },
   "outputs": [
    {
     "name": "stdout",
     "output_type": "stream",
     "text": [
      " * sqlite:///test1.db\n",
      "Done.\n",
      "Done.\n",
      "Done.\n",
      "Done.\n",
      "Done.\n"
     ]
    },
    {
     "data": {
      "text/plain": [
       "[]"
      ]
     },
     "execution_count": 6,
     "metadata": {},
     "output_type": "execute_result"
    }
   ],
   "source": [
    "%%sql\n",
    "create table if not exists Experiments\n",
    "    (ename varchar(20), \n",
    "     startdate day,\n",
    "     enddate day ,\n",
    "     dname varchar(20),\n",
    "     primary key (ename));\n",
    "create table if not exists stages\n",
    "    (ename varchar(20),\n",
    "    sno int,\n",
    "    startdate day,\n",
    "    enddate day,\n",
    "    noofpatients int,\n",
    "    comments varchar(20),\n",
    "    primary key (ename, sno));\n",
    "create table if not exists Patients \n",
    "    (pname varchar(20),\n",
    "     pphone int,\n",
    "     birthdate day,\n",
    "     gender varchar(20),\n",
    "     startdate day,\n",
    "     ename varchar(20),\n",
    "     sno int,\n",
    "     reasonforleaving varchar(20),\n",
    "     dname varchar(20),\n",
    "     primary key (pname));\n",
    "create table if not exists Doctors\n",
    "    (dname varchar(20),\n",
    "    medicalcentre varchar(20),\n",
    "    dphone int,\n",
    "    email varchar(20),\n",
    "    primary key (dname));\n",
    "create table if not exists Participate\n",
    "    (dname varchar(20),\n",
    "    ename varchar(20),\n",
    "    volunteeryn varchar(20),\n",
    "    primary key (dname, ename));"
   ]
  },
  {
   "cell_type": "code",
   "execution_count": 23,
   "metadata": {
    "vscode": {
     "languageId": "sql"
    }
   },
   "outputs": [
    {
     "name": "stdout",
     "output_type": "stream",
     "text": [
      " * sqlite:///test1.db\n",
      "2 rows affected.\n",
      "2 rows affected.\n",
      "2 rows affected.\n",
      "4 rows affected.\n",
      "4 rows affected.\n",
      "2 rows affected.\n",
      "2 rows affected.\n",
      "2 rows affected.\n",
      "4 rows affected.\n",
      "4 rows affected.\n"
     ]
    },
    {
     "data": {
      "text/plain": [
       "[]"
      ]
     },
     "execution_count": 23,
     "metadata": {},
     "output_type": "execute_result"
    }
   ],
   "source": [
    "%%sql\n",
    "\n",
    "-- delete all existing data\n",
    "DELETE FROM Experiments;\n",
    "DELETE FROM stages;\n",
    "DELETE FROM Patients;\n",
    "DELETE FROM Doctors;\n",
    "DELETE FROM Participate;\n",
    "\n",
    "\n",
    "-- lets add some data\n",
    "-- Inserting into Experiments table\n",
    "INSERT INTO Experiments(ename, startdate, enddate, dname) VALUES \n",
    "('Experiment1', '2023-01-01', '2023-02-01', 'Dr.John'),\n",
    "('Experiment2', '2023-02-15', '2023-03-15', 'Dr.Alice');\n",
    "\n",
    "-- Inserting into stages table\n",
    "INSERT INTO stages(ename, sno, startdate, enddate, noofpatients, comments) VALUES \n",
    "('Experiment1', 1, '2023-01-01', '2023-01-15', 10, 'Initial stage'),\n",
    "('Experiment1', 2, '2023-01-16', '2023-02-01', 8, 'Final stage');\n",
    "\n",
    "-- Inserting into Patients table\n",
    "INSERT INTO Patients(pname, pphone, birthdate, gender, startdate, ename, sno, reasonforleaving, dname) VALUES \n",
    "('John Doe', 1234567890, '1985-06-15', 'Male', '2023-01-01', 'Experiment1', 1, NULL, 'Dr.John'),\n",
    "('Jane Smith', 0987654321, '1990-04-10', 'Female', '2023-01-01', 'Experiment1', 1, 'Completed', 'Dr.Alice');\n",
    "\n",
    "-- Inserting into Doctors table\n",
    "INSERT INTO Doctors(dname, medicalcentre, dphone, email) VALUES \n",
    "('Dr.John from a', 'MedCentre A', 1122334455, 'dr.john@email.com'),\n",
    "('Dr.Alice from b', 'MedCentre B', 5566778899, 'dr.alice@email.com'),\n",
    "('Dr.David from b', 'MedCentre B', 9988776655, 'dr.david@emal.com'),\n",
    "('Dr.Bob from c', 'MedCentre C', 4433221100, 'dr.bob@mail.com');\n",
    "\n",
    "-- Inserting into Participate table\n",
    "INSERT INTO Participate(dname, ename, volunteeryn) VALUES \n",
    "('Dr.John', 'Experiment1', 'Yes'),\n",
    "('Dr.Alice', 'Experiment1', 'No'),\n",
    "('Dr.David', 'Experiment2', 'Yes'),\n",
    "('Dr.Bob', 'Experiment2', 'Yes');\n",
    "\n"
   ]
  },
  {
   "cell_type": "code",
   "execution_count": 32,
   "metadata": {
    "vscode": {
     "languageId": "sql"
    }
   },
   "outputs": [
    {
     "name": "stdout",
     "output_type": "stream",
     "text": [
      " * sqlite:///test1.db\n",
      "Done.\n",
      "Done.\n"
     ]
    },
    {
     "data": {
      "text/plain": [
       "[]"
      ]
     },
     "execution_count": 32,
     "metadata": {},
     "output_type": "execute_result"
    }
   ],
   "source": [
    "%%sql\n",
    "\n",
    "select * from stages;\n",
    "-- from Patients;\n",
    "-- group by p.dname;\n",
    "-- having p.reasonforleaving = 'Completed';\n",
    "--  and p.dname exists in \n",
    "--     (select d.dname\n",
    "--     from paricipate as d\n",
    "--     where volunteeryn = 'Yes'));"
   ]
  }
 ],
 "metadata": {
  "kernelspec": {
   "display_name": "Python 3",
   "language": "python",
   "name": "python3"
  },
  "language_info": {
   "codemirror_mode": {
    "name": "ipython",
    "version": 3
   },
   "file_extension": ".py",
   "mimetype": "text/x-python",
   "name": "python",
   "nbconvert_exporter": "python",
   "pygments_lexer": "ipython3",
   "version": "3.10.12"
  },
  "orig_nbformat": 4
 },
 "nbformat": 4,
 "nbformat_minor": 2
}
