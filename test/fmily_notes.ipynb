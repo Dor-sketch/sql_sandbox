{
 "cells": [
  {
   "cell_type": "markdown",
   "metadata": {},
   "source": [
    "# SQL Practice\n",
    "This notebook designed to practice basic SQL queries on the famild.db."
   ]
  },
  {
   "cell_type": "code",
   "execution_count": 1,
   "metadata": {},
   "outputs": [],
   "source": [
    "%load_ext sql"
   ]
  },
  {
   "cell_type": "code",
   "execution_count": 2,
   "metadata": {},
   "outputs": [],
   "source": [
    "%sql sqlite:///family.db"
   ]
  },
  {
   "cell_type": "code",
   "execution_count": 26,
   "metadata": {
    "vscode": {
     "languageId": "sql"
    }
   },
   "outputs": [
    {
     "name": "stdout",
     "output_type": "stream",
     "text": [
      " * sqlite:///family.db\n",
      "Done.\n"
     ]
    },
    {
     "data": {
      "text/html": [
       "<table>\n",
       "    <thead>\n",
       "        <tr>\n",
       "            <th>MILF</th>\n",
       "        </tr>\n",
       "    </thead>\n",
       "    <tbody>\n",
       "        <tr>\n",
       "            <td>Old Feminist Mom</td>\n",
       "        </tr>\n",
       "        <tr>\n",
       "            <td>Levs grandmother</td>\n",
       "        </tr>\n",
       "        <tr>\n",
       "            <td>Levs mom</td>\n",
       "        </tr>\n",
       "    </tbody>\n",
       "</table>"
      ],
      "text/plain": [
       "[('Old Feminist Mom',), ('Levs grandmother',), ('Levs mom',)]"
      ]
     },
     "execution_count": 26,
     "metadata": {},
     "output_type": "execute_result"
    }
   ],
   "source": [
    "%%sql\n",
    "\n",
    "select first_name as MILF\n",
    "from person, child_of\n",
    "where mother_id = id\n",
    "and original_surname = new_surname\n",
    "and (birth_date > 50);"
   ]
  },
  {
   "cell_type": "code",
   "execution_count": 27,
   "metadata": {
    "vscode": {
     "languageId": "sql"
    }
   },
   "outputs": [
    {
     "name": "stdout",
     "output_type": "stream",
     "text": [
      " * sqlite:///family.db\n",
      "Done.\n"
     ]
    },
    {
     "data": {
      "text/html": [
       "<table>\n",
       "    <thead>\n",
       "        <tr>\n",
       "            <th>first_name</th>\n",
       "        </tr>\n",
       "    </thead>\n",
       "    <tbody>\n",
       "        <tr>\n",
       "            <td>Old Feminist Mom</td>\n",
       "        </tr>\n",
       "        <tr>\n",
       "            <td>Levs grandmother</td>\n",
       "        </tr>\n",
       "        <tr>\n",
       "            <td>Levs mom</td>\n",
       "        </tr>\n",
       "    </tbody>\n",
       "</table>"
      ],
      "text/plain": [
       "[('Old Feminist Mom',), ('Levs grandmother',), ('Levs mom',)]"
      ]
     },
     "execution_count": 27,
     "metadata": {},
     "output_type": "execute_result"
    }
   ],
   "source": [
    "%%sql\n",
    "\n",
    "-- without subquery - use join\n",
    "\n",
    "SELECT first_name\n",
    "FROM person\n",
    "JOIN child_of ON person.id = child_of.mother_id\n",
    "WHERE person.original_surname = person.new_surname\n",
    "AND (strftime('%Y', 'now') - strftime('%Y', birth_date)) > 50;\n"
   ]
  },
  {
   "cell_type": "code",
   "execution_count": 28,
   "metadata": {
    "vscode": {
     "languageId": "sql"
    }
   },
   "outputs": [
    {
     "name": "stdout",
     "output_type": "stream",
     "text": [
      " * sqlite:///family.db\n",
      "Done.\n"
     ]
    },
    {
     "data": {
      "text/html": [
       "<table>\n",
       "    <thead>\n",
       "        <tr>\n",
       "            <th>first_name</th>\n",
       "        </tr>\n",
       "    </thead>\n",
       "    <tbody>\n",
       "        <tr>\n",
       "            <td>Old Feminist Mom</td>\n",
       "        </tr>\n",
       "        <tr>\n",
       "            <td>Levs grandmother</td>\n",
       "        </tr>\n",
       "        <tr>\n",
       "            <td>Levs mom</td>\n",
       "        </tr>\n",
       "    </tbody>\n",
       "</table>"
      ],
      "text/plain": [
       "[('Old Feminist Mom',), ('Levs grandmother',), ('Levs mom',)]"
      ]
     },
     "execution_count": 28,
     "metadata": {},
     "output_type": "execute_result"
    }
   ],
   "source": [
    "%%sql\n",
    "\n",
    "-- again without join\n",
    "\n",
    "select first_name\n",
    "from person\n",
    "where original_surname = new_surname\n",
    "and (strftime('%Y', 'now') - strftime('%Y', birth_date)) > 50\n",
    "and id in\n",
    "    (select mother_id\n",
    "    from child_of);"
   ]
  },
  {
   "cell_type": "code",
   "execution_count": 29,
   "metadata": {
    "vscode": {
     "languageId": "sql"
    }
   },
   "outputs": [
    {
     "name": "stdout",
     "output_type": "stream",
     "text": [
      " * sqlite:///family.db\n",
      "(sqlite3.OperationalError) row value misused\n",
      "[SQL: -- sqllite dont support!!\n",
      "select count(child_id)\n",
      "from child_of\n",
      "group by (father_id, mother_id)]\n",
      "(Background on this error at: https://sqlalche.me/e/20/e3q8)\n"
     ]
    }
   ],
   "source": [
    "%%sql\n",
    "-- sqllite dont support!!\n",
    "select count(child_id)\n",
    "from child_of\n",
    "group by (father_id, mother_id)"
   ]
  },
  {
   "cell_type": "code",
   "execution_count": 30,
   "metadata": {
    "vscode": {
     "languageId": "sql"
    }
   },
   "outputs": [
    {
     "name": "stdout",
     "output_type": "stream",
     "text": [
      " * sqlite:///family.db\n",
      "Done.\n"
     ]
    },
    {
     "data": {
      "text/html": [
       "<table>\n",
       "    <thead>\n",
       "        <tr>\n",
       "            <th>father_id</th>\n",
       "            <th>mother_id</th>\n",
       "            <th>num_children</th>\n",
       "        </tr>\n",
       "    </thead>\n",
       "    <tbody>\n",
       "        <tr>\n",
       "            <td>1</td>\n",
       "            <td>2</td>\n",
       "            <td>2</td>\n",
       "        </tr>\n",
       "        <tr>\n",
       "            <td>1</td>\n",
       "            <td>7</td>\n",
       "            <td>1</td>\n",
       "        </tr>\n",
       "        <tr>\n",
       "            <td>3</td>\n",
       "            <td>4</td>\n",
       "            <td>2</td>\n",
       "        </tr>\n",
       "        <tr>\n",
       "            <td>11</td>\n",
       "            <td>111</td>\n",
       "            <td>1</td>\n",
       "        </tr>\n",
       "        <tr>\n",
       "            <td>12</td>\n",
       "            <td>122</td>\n",
       "            <td>1</td>\n",
       "        </tr>\n",
       "    </tbody>\n",
       "</table>"
      ],
      "text/plain": [
       "[(1, 2, 2), (1, 7, 1), (3, 4, 2), (11, 111, 1), (12, 122, 1)]"
      ]
     },
     "execution_count": 30,
     "metadata": {},
     "output_type": "execute_result"
    }
   ],
   "source": [
    "%%sql\n",
    "\n",
    "SELECT father_id, mother_id, COUNT(child_id) as num_children\n",
    "FROM child_of\n",
    "GROUP BY father_id, mother_id;"
   ]
  },
  {
   "cell_type": "code",
   "execution_count": 31,
   "metadata": {
    "vscode": {
     "languageId": "sql"
    }
   },
   "outputs": [
    {
     "name": "stdout",
     "output_type": "stream",
     "text": [
      " * sqlite:///family.db\n",
      "Done.\n"
     ]
    },
    {
     "data": {
      "text/html": [
       "<table>\n",
       "    <thead>\n",
       "        <tr>\n",
       "            <th>m_id</th>\n",
       "            <th>w_id</th>\n",
       "            <th>num_children</th>\n",
       "        </tr>\n",
       "    </thead>\n",
       "    <tbody>\n",
       "        <tr>\n",
       "            <td>1</td>\n",
       "            <td>2</td>\n",
       "            <td>10</td>\n",
       "        </tr>\n",
       "    </tbody>\n",
       "</table>"
      ],
      "text/plain": [
       "[(1, 2, 10)]"
      ]
     },
     "execution_count": 31,
     "metadata": {},
     "output_type": "execute_result"
    }
   ],
   "source": [
    "%%sql\n",
    "\n",
    "-- now for maried couples only:\n",
    "\n",
    "select m_id, w_id, count(child_id) as num_children\n",
    "from  marriage, child_of\n",
    "group by mother_id, father_id\n",
    "having m_id = father_id and w_id = mother_id\n"
   ]
  },
  {
   "cell_type": "markdown",
   "metadata": {},
   "source": [
    "When you are trying to perform a query on multiple tables using an implicit JOIN (by listing the tables separated by commas), you'll need to specify the conditions for how the tables relate to each other in the WHERE clause. This is known as an implicit join condition.\n",
    "\n",
    "Here's the corrected query:\n",
    "\n",
    "```sql\n",
    "\n",
    "%%sql\n",
    "\n",
    "SELECT m.m_id, m.w_id, COUNT(c.child_id) as num_children\n",
    "FROM marriage m, child_of c\n",
    "WHERE m.m_id = c.father_id AND m.w_id = c.mother_id\n",
    "GROUP BY m.m_id, m.w_id;\n",
    "```\n",
    "\n",
    "Changes made:\n",
    "\n",
    "    Added table aliases for clarity: m for marriage and c for child_of.\n",
    "    Moved the conditions specifying the relationship between the marriage and child_of tables to the WHERE clause.\n",
    "\n",
    "The resulting query should give you the count of children for each married couple."
   ]
  },
  {
   "cell_type": "code",
   "execution_count": 32,
   "metadata": {
    "vscode": {
     "languageId": "sql"
    }
   },
   "outputs": [
    {
     "name": "stdout",
     "output_type": "stream",
     "text": [
      " * sqlite:///family.db\n",
      "Done.\n"
     ]
    },
    {
     "data": {
      "text/html": [
       "<table>\n",
       "    <thead>\n",
       "        <tr>\n",
       "            <th>m_id</th>\n",
       "            <th>w_id</th>\n",
       "            <th>num_children</th>\n",
       "        </tr>\n",
       "    </thead>\n",
       "    <tbody>\n",
       "        <tr>\n",
       "            <td>1</td>\n",
       "            <td>2</td>\n",
       "            <td>2</td>\n",
       "        </tr>\n",
       "        <tr>\n",
       "            <td>3</td>\n",
       "            <td>4</td>\n",
       "            <td>2</td>\n",
       "        </tr>\n",
       "        <tr>\n",
       "            <td>11</td>\n",
       "            <td>111</td>\n",
       "            <td>1</td>\n",
       "        </tr>\n",
       "        <tr>\n",
       "            <td>12</td>\n",
       "            <td>122</td>\n",
       "            <td>1</td>\n",
       "        </tr>\n",
       "    </tbody>\n",
       "</table>"
      ],
      "text/plain": [
       "[(1, 2, 2), (3, 4, 2), (11, 111, 1), (12, 122, 1)]"
      ]
     },
     "execution_count": 32,
     "metadata": {},
     "output_type": "execute_result"
    }
   ],
   "source": [
    "%%sql\n",
    "\n",
    "SELECT m.m_id, m.w_id, COUNT(c.child_id) as num_children\n",
    "FROM marriage m, child_of c\n",
    "WHERE m.m_id = c.father_id AND m.w_id = c.mother_id\n",
    "GROUP BY m.m_id, m.w_id;"
   ]
  },
  {
   "cell_type": "markdown",
   "metadata": {},
   "source": [
    "1. 11 - grandgrandfather\n",
    "2. 12 - Lev's father\n",
    "3. 3  - Lev\n",
    "4. 5  - Lev's son"
   ]
  },
  {
   "cell_type": "code",
   "execution_count": 33,
   "metadata": {
    "vscode": {
     "languageId": "sql"
    }
   },
   "outputs": [
    {
     "name": "stdout",
     "output_type": "stream",
     "text": [
      " * sqlite:///family.db\n",
      "(sqlite3.IntegrityError) UNIQUE constraint failed: person.id\n",
      "[SQL: -- lets creat 3 generation's family name\n",
      "insert into person values \n",
      "    ('11', 'Levs grndfather','Ayzen', 'Ayzen', 1900-01-01),\n",
      "    ('111', 'Levs grandmother', 'Ayzen', 'Ayzen', 1901-10-10),\n",
      "    ('12', 'Yossi', 'Ayzen', 'Ayzen', 1929-10-10),\n",
      "    ('122', 'Levs mom','Ayzen', 'Ayzen', 1929-10-10)\n",
      "    ;]\n",
      "(Background on this error at: https://sqlalche.me/e/20/gkpj)\n"
     ]
    }
   ],
   "source": [
    "%%sql\n",
    "-- lets creat 3 generation's family name\n",
    "insert into person values \n",
    "    ('11', 'Levs grndfather','Ayzen', 'Ayzen', 1900-01-01),\n",
    "    ('111', 'Levs grandmother', 'Ayzen', 'Ayzen', 1901-10-10),\n",
    "    ('12', 'Yossi', 'Ayzen', 'Ayzen', 1929-10-10),\n",
    "    ('122', 'Levs mom','Ayzen', 'Ayzen', 1929-10-10)\n",
    "    ;\n",
    "\n",
    "insert into child_of values\n",
    "    ('12', '11', '111' ), -- yosi\n",
    "    ('3', '12','122'); -- lev\n",
    "\n",
    "insert into marriage values\n",
    "    ('11', '111', '1920-01-01'), --grabdoarabts\n",
    "    ('12', '122', '1960-01-01'); -- parants"
   ]
  },
  {
   "cell_type": "code",
   "execution_count": 34,
   "metadata": {
    "vscode": {
     "languageId": "sql"
    }
   },
   "outputs": [
    {
     "name": "stdout",
     "output_type": "stream",
     "text": [
      " * sqlite:///family.db\n",
      "(sqlite3.OperationalError) near \"exists\": syntax error\n",
      "[SQL: select original_surname as old_surname\n",
      "from person, child_of\n",
      "where id = child_id\n",
      "group by original_surname\n",
      "having original_surname not exists in\n",
      "    select original_surname\n",
      "    from person, child_of\n",
      "    where id = child_id\n",
      "    group by original_surname\n",
      "    not in\n",
      "        select original_surname\n",
      "        from person, child_of\n",
      "        where id = child_id;]\n",
      "(Background on this error at: https://sqlalche.me/e/20/e3q8)\n"
     ]
    }
   ],
   "source": [
    "%%sql\n",
    "\n",
    "select original_surname as old_surname\n",
    "from person, child_of\n",
    "where id = child_id\n",
    "group by original_surname\n",
    "having original_surname not exists in\n",
    "    select original_surname\n",
    "    from person, child_of\n",
    "    where id = child_id\n",
    "    group by original_surname\n",
    "    not in\n",
    "        select original_surname\n",
    "        from person, child_of\n",
    "        where id = child_id;"
   ]
  },
  {
   "cell_type": "code",
   "execution_count": 35,
   "metadata": {
    "vscode": {
     "languageId": "sql"
    }
   },
   "outputs": [
    {
     "name": "stdout",
     "output_type": "stream",
     "text": [
      " * sqlite:///family.db\n",
      "Done.\n"
     ]
    },
    {
     "data": {
      "text/html": [
       "<table>\n",
       "    <thead>\n",
       "        <tr>\n",
       "            <th>old_surname</th>\n",
       "        </tr>\n",
       "    </thead>\n",
       "    <tbody>\n",
       "        <tr>\n",
       "            <td>Ayzen</td>\n",
       "        </tr>\n",
       "        <tr>\n",
       "            <td>Doe</td>\n",
       "        </tr>\n",
       "        <tr>\n",
       "            <td>Same</td>\n",
       "        </tr>\n",
       "        <tr>\n",
       "            <td>Smith</td>\n",
       "        </tr>\n",
       "    </tbody>\n",
       "</table>"
      ],
      "text/plain": [
       "[('Ayzen',), ('Doe',), ('Same',), ('Smith',)]"
      ]
     },
     "execution_count": 35,
     "metadata": {},
     "output_type": "execute_result"
    }
   ],
   "source": [
    "%%sql\n",
    "\n",
    "SELECT p1.original_surname AS old_surname\n",
    "FROM person p1\n",
    "WHERE EXISTS ( \n",
    "    SELECT 1 FROM child_of c1 WHERE c1.child_id = p1.id \n",
    "    AND EXISTS ( \n",
    "        SELECT 1 FROM child_of c2 WHERE (c2.child_id = c1.father_id OR c2.child_id = c1.mother_id)\n",
    "        AND EXISTS (\n",
    "            SELECT 1 FROM child_of c3 WHERE (c3.child_id = c2.father_id OR c3.child_id = c2.mother_id)\n",
    "        )\n",
    "    )\n",
    ")\n",
    "GROUP BY p1.original_surname;"
   ]
  },
  {
   "cell_type": "code",
   "execution_count": 11,
   "metadata": {
    "vscode": {
     "languageId": "sql"
    }
   },
   "outputs": [
    {
     "name": "stdout",
     "output_type": "stream",
     "text": [
      " * sqlite:///family.db\n",
      "Done.\n"
     ]
    },
    {
     "data": {
      "text/html": [
       "<table>\n",
       "    <thead>\n",
       "        <tr>\n",
       "            <th>original_surname</th>\n",
       "        </tr>\n",
       "    </thead>\n",
       "    <tbody>\n",
       "        <tr>\n",
       "            <td>Smith</td>\n",
       "        </tr>\n",
       "        <tr>\n",
       "            <td>Ayzen</td>\n",
       "        </tr>\n",
       "    </tbody>\n",
       "</table>"
      ],
      "text/plain": [
       "[('Smith',), ('Ayzen',)]"
      ]
     },
     "execution_count": 11,
     "metadata": {},
     "output_type": "execute_result"
    }
   ],
   "source": [
    "%%sql\n",
    "\n",
    "select distinct son.original_surname\n",
    "from person as grandfather, person as father, person as son,\n",
    "    child_of as son, child_of as father\n",
    "where grandfather.original_surname = father.original_surname\n",
    "  and father.original_surname = son.original_surname\n",
    "  and father.id = son.father_id\n",
    "  and grandfather.id = father.father_id;"
   ]
  },
  {
   "cell_type": "code",
   "execution_count": 37,
   "metadata": {
    "vscode": {
     "languageId": "sql"
    }
   },
   "outputs": [
    {
     "name": "stdout",
     "output_type": "stream",
     "text": [
      " * sqlite:///family.db\n",
      "Done.\n"
     ]
    },
    {
     "data": {
      "text/html": [
       "<table>\n",
       "    <thead>\n",
       "        <tr>\n",
       "            <th>child_id</th>\n",
       "            <th>child_id_1</th>\n",
       "        </tr>\n",
       "    </thead>\n",
       "    <tbody>\n",
       "        <tr>\n",
       "            <td>1</td>\n",
       "            <td>8</td>\n",
       "        </tr>\n",
       "        <tr>\n",
       "            <td>2</td>\n",
       "            <td>8</td>\n",
       "        </tr>\n",
       "        <tr>\n",
       "            <td>8</td>\n",
       "            <td>1</td>\n",
       "        </tr>\n",
       "        <tr>\n",
       "            <td>8</td>\n",
       "            <td>2</td>\n",
       "        </tr>\n",
       "    </tbody>\n",
       "</table>"
      ],
      "text/plain": [
       "[(1, 8), (2, 8), (8, 1), (8, 2)]"
      ]
     },
     "execution_count": 37,
     "metadata": {},
     "output_type": "execute_result"
    }
   ],
   "source": [
    "%%sql\n",
    "\n",
    "select brother1.child_id, brother2.child_id\n",
    "from child_of as brother1, child_of as brother2\n",
    "where brother1.child_id <> brother2.child_id\n",
    " and brother1.father_id = brother2.father_id\n",
    " and brother1.mother_id <> brother2.mother_id\n",
    "union\n",
    "select brother1.child_id, brother2.child_id\n",
    "from child_of as brother1, child_of as brother2\n",
    "where brother1.child_id <> brother2.child_id\n",
    " and brother1.father_id <> brother2.father_id\n",
    " and brother1.mother_id = brother2.mother_id;"
   ]
  },
  {
   "cell_type": "markdown",
   "metadata": {},
   "source": [
    "wrong - union add dublicate!!!"
   ]
  },
  {
   "cell_type": "code",
   "execution_count": 24,
   "metadata": {
    "vscode": {
     "languageId": "sql"
    }
   },
   "outputs": [
    {
     "name": "stdout",
     "output_type": "stream",
     "text": [
      " * sqlite:///family.db\n",
      "Done.\n"
     ]
    },
    {
     "data": {
      "text/html": [
       "<table>\n",
       "    <thead>\n",
       "        <tr>\n",
       "            <th>child_id</th>\n",
       "            <th>child_id_1</th>\n",
       "        </tr>\n",
       "    </thead>\n",
       "    <tbody>\n",
       "        <tr>\n",
       "            <td>1</td>\n",
       "            <td>8</td>\n",
       "        </tr>\n",
       "        <tr>\n",
       "            <td>2</td>\n",
       "            <td>8</td>\n",
       "        </tr>\n",
       "        <tr>\n",
       "            <td>8</td>\n",
       "            <td>1</td>\n",
       "        </tr>\n",
       "        <tr>\n",
       "            <td>8</td>\n",
       "            <td>2</td>\n",
       "        </tr>\n",
       "    </tbody>\n",
       "</table>"
      ],
      "text/plain": [
       "[(1, 8), (2, 8), (8, 1), (8, 2)]"
      ]
     },
     "execution_count": 24,
     "metadata": {},
     "output_type": "execute_result"
    }
   ],
   "source": [
    "%%sql\n",
    "\n",
    "select brother1.child_id, brother2.child_id\n",
    "from child_of as brother1, child_of as brother2\n",
    "where (brother1.child_id <> brother2.child_id)\n",
    " and ((brother1.father_id = brother2.father_id\n",
    "         and brother1.mother_id <> brother2.mother_id)\n",
    "    or\n",
    "    (brother1.father_id <> brother2.father_id\n",
    "     and brother1.mother_id = brother2.mother_id));"
   ]
  },
  {
   "cell_type": "markdown",
   "metadata": {},
   "source": [
    "still wrong! must aliminate dups in couples! We'll use brother1.id "
   ]
  },
  {
   "cell_type": "code",
   "execution_count": 38,
   "metadata": {
    "vscode": {
     "languageId": "sql"
    }
   },
   "outputs": [
    {
     "name": "stdout",
     "output_type": "stream",
     "text": [
      " * sqlite:///family.db\n",
      "Done.\n"
     ]
    },
    {
     "data": {
      "text/html": [
       "<table>\n",
       "    <thead>\n",
       "        <tr>\n",
       "            <th>child_id</th>\n",
       "            <th>child_id_1</th>\n",
       "        </tr>\n",
       "    </thead>\n",
       "    <tbody>\n",
       "        <tr>\n",
       "            <td>1</td>\n",
       "            <td>8</td>\n",
       "        </tr>\n",
       "        <tr>\n",
       "            <td>2</td>\n",
       "            <td>8</td>\n",
       "        </tr>\n",
       "    </tbody>\n",
       "</table>"
      ],
      "text/plain": [
       "[(1, 8), (2, 8)]"
      ]
     },
     "execution_count": 38,
     "metadata": {},
     "output_type": "execute_result"
    }
   ],
   "source": [
    "%%sql\n",
    "\n",
    "select brother1.child_id, brother2.child_id\n",
    "from child_of as brother1, child_of as brother2\n",
    "where (brother1.child_id < brother2.child_id)\n",
    " and ((brother1.father_id = brother2.father_id\n",
    "         and brother1.mother_id <> brother2.mother_id)\n",
    "    or\n",
    "    (brother1.father_id <> brother2.father_id\n",
    "     and brother1.mother_id = brother2.mother_id));"
   ]
  },
  {
   "cell_type": "code",
   "execution_count": null,
   "metadata": {
    "vscode": {
     "languageId": "sql"
    }
   },
   "outputs": [],
   "source": []
  }
 ],
 "metadata": {
  "kernelspec": {
   "display_name": "Python 3",
   "language": "python",
   "name": "python3"
  },
  "language_info": {
   "codemirror_mode": {
    "name": "ipython",
    "version": 3
   },
   "file_extension": ".py",
   "mimetype": "text/x-python",
   "name": "python",
   "nbconvert_exporter": "python",
   "pygments_lexer": "ipython3",
   "version": "3.10.12"
  },
  "orig_nbformat": 4
 },
 "nbformat": 4,
 "nbformat_minor": 2
}
