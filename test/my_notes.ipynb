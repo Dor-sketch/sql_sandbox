{
 "cells": [
  {
   "cell_type": "markdown",
   "metadata": {},
   "source": [
    "# Import garden.db"
   ]
  },
  {
   "cell_type": "markdown",
   "metadata": {},
   "source": [
    "### 3.1 all plants in db"
   ]
  },
  {
   "cell_type": "code",
   "execution_count": 2,
   "metadata": {},
   "outputs": [
    {
     "name": "stdout",
     "output_type": "stream",
     "text": [
      "=========================================\n",
      "pname\tptype\tpdiameter\tpmaxheight\t\n",
      "('חרוב מצוי', 'עץ פרי', 4, 5)\n",
      "('זית', 'עץ פרי', 4.5, 4)\n",
      "('ברוש', 'עץ נוי', 2, 7)\n",
      "('דולב', 'עץ נוי', 5, 7)\n",
      "('אורן ירושלים', 'עץ נוי', 3, 6)\n",
      "('חבושית', 'שיח', 0.7, 1)\n",
      "('רוזמרין', 'שיח', 0.7, 1.5)\n",
      "('אחירותם', 'שיח', 1, 2)\n",
      "('ורד', 'שיח', 1, 1.2)\n",
      "('גפנית', 'מטפס', 1, 6)\n",
      "('לנטנה לילכית', 'שיח', 0.7, 0.8)\n",
      "('צבעוני ההרים', 'פרח בצל', 0.1, 0.5)\n",
      "('תורמוס', 'חד שנתי', 0.2, 0.7)\n",
      "('ציפורני חתול', 'חד שנתי', 0.1, 0.3)\n",
      "('aaa', 'bbb', 1, 2)\n",
      "('my_bush1', 'שיח', 1, 2.22)\n",
      "('my_bush2', 'שיח', 1, 2.22)\n",
      "=========================================\n"
     ]
    }
   ],
   "source": [
    "import sqlite3\n",
    "\n",
    "# Connect to the database\n",
    "conn = sqlite3.connect('gardening.db')\n",
    "c = conn.cursor()\n",
    "\n",
    "import readline\n",
    "\n",
    "# Connect to the database\n",
    "conn = sqlite3.connect('gardening.db')\n",
    "c = conn.cursor()\n",
    "\n",
    "# Set up readline for console input\n",
    "readline.parse_and_bind(\"tab: complete\")\n",
    "readline.set_history_length(1000)\n",
    "\n",
    "# Define a function to execute a SQL query\n",
    "def execute_query(query):\n",
    "    try:\n",
    "        print(\"=========================================\")\n",
    "        # Execute the SQL query\n",
    "        c.execute(query)\n",
    "\n",
    "        # Get column names\n",
    "        column_names = [description[0] for description in c.description] if c.description else []\n",
    "\n",
    "        # Print column names\n",
    "        for col_name in column_names:\n",
    "            print(col_name, end=\"\\t\")\n",
    "        if column_names:\n",
    "            print()  # New line after column names\n",
    "\n",
    "\n",
    "        results = c.fetchall()\n",
    "\n",
    "        # Print the results\n",
    "        if len(results) == 0:\n",
    "            print(\"No results found.\")\n",
    "        else:\n",
    "            for row in results:\n",
    "                print(row)\n",
    "\n",
    "        print(\"=========================================\")\n",
    "        \n",
    "        # Commit the changes to the database\n",
    "        conn.commit()\n",
    "\n",
    "        # Print a message for successful INSERT, UPDATE, or DELETE statements\n",
    "        if c.rowcount > 0:\n",
    "            print(\"Query executed successfully.\")\n",
    "\n",
    "        # Print the last inserted row ID for INSERT statements\n",
    "        if query.lower().startswith('insert'):\n",
    "            print(\"Last inserted row ID:\", c.lastrowid)\n",
    "\n",
    "    except sqlite3.Error as e:\n",
    "        # Print an error message if the query fails\n",
    "        print(\"An error occurred:\", e)\n",
    "\n",
    "# Loop to prompt the user for input\n",
    "query_lines = []\n",
    "while True:\n",
    "    try:\n",
    "        # Check if it's the beginning of a new command\n",
    "        if not query_lines:\n",
    "            prompt = \"Enter a SQL query (or 'exit' to quit): \\n\"\n",
    "        else:\n",
    "            prompt = ''\n",
    "\n",
    "        line = input(prompt)\n",
    "        \n",
    "        # If the user just presses Enter without typing anything, consider it as execution time\n",
    "        if not line.strip() and query_lines:\n",
    "            query = ' '.join(query_lines)\n",
    "            query_lines.clear()\n",
    "            execute_query(query)\n",
    "        else:\n",
    "            query_lines.append(line)\n",
    "\n",
    "    except KeyboardInterrupt:\n",
    "        # Handle Ctrl+C to exit the loop cleanly\n",
    "        print(\"\\nExiting...\")\n",
    "        break\n",
    "\n",
    "    # Check if the user wants to exit\n",
    "    if line.lower() == 'exit':\n",
    "        break\n",
    "\n",
    "    # Handle up arrow to load last query (this remains unchanged, but might need a different approach)\n",
    "    if line == '':\n",
    "        query = readline.get_history_item(readline.get_current_history_length())\n",
    "\n",
    "    # Add the query to the history (this remains unchanged)\n",
    "    readline.add_history(line)\n",
    "\n"
   ]
  },
  {
   "cell_type": "code",
   "execution_count": 3,
   "metadata": {},
   "outputs": [
    {
     "name": "stdout",
     "output_type": "stream",
     "text": [
      "=========================================\n",
      "pname\t\n",
      "('חרוב מצוי',)\n",
      "('זית',)\n",
      "('ברוש',)\n",
      "('דולב',)\n",
      "('אורן ירושלים',)\n",
      "=========================================\n"
     ]
    }
   ],
   "source": [
    "query = \"\"\"\n",
    "SELECT pname\n",
    "FROM plant\n",
    "WHERE ptype IN ('עץ פרי', 'עץ נוי');\n",
    "\"\"\"\n",
    "execute_query(query)"
   ]
  },
  {
   "cell_type": "code",
   "execution_count": 4,
   "metadata": {},
   "outputs": [],
   "source": [
    "# Close the database connection\n",
    "conn.close()\n"
   ]
  },
  {
   "cell_type": "code",
   "execution_count": 5,
   "metadata": {},
   "outputs": [],
   "source": [
    "%load_ext sql"
   ]
  },
  {
   "cell_type": "code",
   "execution_count": 6,
   "metadata": {},
   "outputs": [],
   "source": [
    "%sql sqlite:///gardening.db"
   ]
  },
  {
   "cell_type": "code",
   "execution_count": 7,
   "metadata": {
    "vscode": {
     "languageId": "sql"
    }
   },
   "outputs": [
    {
     "name": "stdout",
     "output_type": "stream",
     "text": [
      " * sqlite:///gardening.db\n",
      "Done.\n"
     ]
    },
    {
     "data": {
      "text/html": [
       "<table>\n",
       "    <thead>\n",
       "        <tr>\n",
       "            <th>pname</th>\n",
       "        </tr>\n",
       "    </thead>\n",
       "    <tbody>\n",
       "        <tr>\n",
       "            <td>חרוב מצוי</td>\n",
       "        </tr>\n",
       "        <tr>\n",
       "            <td>זית</td>\n",
       "        </tr>\n",
       "        <tr>\n",
       "            <td>ברוש</td>\n",
       "        </tr>\n",
       "        <tr>\n",
       "            <td>דולב</td>\n",
       "        </tr>\n",
       "        <tr>\n",
       "            <td>אורן ירושלים</td>\n",
       "        </tr>\n",
       "    </tbody>\n",
       "</table>"
      ],
      "text/plain": [
       "[('חרוב מצוי',), ('זית',), ('ברוש',), ('דולב',), ('אורן ירושלים',)]"
      ]
     },
     "execution_count": 7,
     "metadata": {},
     "output_type": "execute_result"
    }
   ],
   "source": [
    "%%sql\n",
    "SELECT pname\n",
    "FROM plant\n",
    "WHERE ptype IN ('עץ פרי', 'עץ נוי');"
   ]
  }
 ],
 "metadata": {
  "kernelspec": {
   "display_name": "Python 3",
   "language": "python",
   "name": "python3"
  },
  "language_info": {
   "codemirror_mode": {
    "name": "ipython",
    "version": 3
   },
   "file_extension": ".py",
   "mimetype": "text/x-python",
   "name": "python",
   "nbconvert_exporter": "python",
   "pygments_lexer": "ipython3",
   "version": "3.10.12"
  },
  "orig_nbformat": 4
 },
 "nbformat": 4,
 "nbformat_minor": 2
}
