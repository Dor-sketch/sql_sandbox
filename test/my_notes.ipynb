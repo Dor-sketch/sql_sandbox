{
 "cells": [
  {
   "cell_type": "markdown",
   "metadata": {},
   "source": [
    "# Import garden.db"
   ]
  },
  {
   "cell_type": "markdown",
   "metadata": {},
   "source": [
    "### 3.1 all plants in db"
   ]
  },
  {
   "cell_type": "code",
   "execution_count": null,
   "metadata": {},
   "outputs": [],
   "source": [
    "import sqlite3\n",
    "\n",
    "# Connect to the database\n",
    "conn = sqlite3.connect('gardening.db')\n",
    "c = conn.cursor()\n",
    "\n",
    "import readline\n",
    "\n",
    "# Connect to the database\n",
    "conn = sqlite3.connect('gardening.db')\n",
    "c = conn.cursor()\n",
    "\n",
    "# Set up readline for console input\n",
    "readline.parse_and_bind(\"tab: complete\")\n",
    "readline.set_history_length(1000)\n",
    "\n",
    "# Define a function to execute a SQL query\n",
    "def execute_query(query):\n",
    "    try:\n",
    "        print(\"=========================================\")\n",
    "        # Execute the SQL query\n",
    "        c.execute(query)\n",
    "\n",
    "        # Get column names\n",
    "        column_names = [description[0] for description in c.description] if c.description else []\n",
    "\n",
    "        # Print column names\n",
    "        for col_name in column_names:\n",
    "            print(col_name, end=\"\\t\")\n",
    "        if column_names:\n",
    "            print()  # New line after column names\n",
    "\n",
    "\n",
    "        results = c.fetchall()\n",
    "\n",
    "        # Print the results\n",
    "        if len(results) == 0:\n",
    "            print(\"No results found.\")\n",
    "        else:\n",
    "            for row in results:\n",
    "                print(row)\n",
    "\n",
    "        print(\"=========================================\")\n",
    "        \n",
    "        # Commit the changes to the database\n",
    "        conn.commit()\n",
    "\n",
    "        # Print a message for successful INSERT, UPDATE, or DELETE statements\n",
    "        if c.rowcount > 0:\n",
    "            print(\"Query executed successfully.\")\n",
    "\n",
    "        # Print the last inserted row ID for INSERT statements\n",
    "        if query.lower().startswith('insert'):\n",
    "            print(\"Last inserted row ID:\", c.lastrowid)\n",
    "\n",
    "    except sqlite3.Error as e:\n",
    "        # Print an error message if the query fails\n",
    "        print(\"An error occurred:\", e)\n",
    "\n",
    "# Loop to prompt the user for input\n",
    "query_lines = []\n",
    "while True:\n",
    "    try:\n",
    "        # Check if it's the beginning of a new command\n",
    "        if not query_lines:\n",
    "            prompt = \"Enter a SQL query (or 'exit' to quit): \\n\"\n",
    "        else:\n",
    "            prompt = ''\n",
    "\n",
    "        line = input(prompt)\n",
    "        \n",
    "        # If the user just presses Enter without typing anything, consider it as execution time\n",
    "        if not line.strip() and query_lines:\n",
    "            query = ' '.join(query_lines)\n",
    "            query_lines.clear()\n",
    "            execute_query(query)\n",
    "        else:\n",
    "            query_lines.append(line)\n",
    "\n",
    "    except KeyboardInterrupt:\n",
    "        # Handle Ctrl+C to exit the loop cleanly\n",
    "        print(\"\\nExiting...\")\n",
    "        break\n",
    "\n",
    "    # Check if the user wants to exit\n",
    "    if line.lower() == 'exit':\n",
    "        break\n",
    "\n",
    "    # Handle up arrow to load last query (this remains unchanged, but might need a different approach)\n",
    "    if line == '':\n",
    "        query = readline.get_history_item(readline.get_current_history_length())\n",
    "\n",
    "    # Add the query to the history (this remains unchanged)\n",
    "    readline.add_history(line)\n",
    "\n"
   ]
  },
  {
   "cell_type": "code",
   "execution_count": null,
   "metadata": {},
   "outputs": [],
   "source": [
    "query = \"\"\"\n",
    "SELECT pname\n",
    "FROM plant\n",
    "WHERE ptype IN ('עץ פרי', 'עץ נוי');\n",
    "\"\"\"\n",
    "execute_query(query)"
   ]
  },
  {
   "cell_type": "markdown",
   "metadata": {},
   "source": [
    "career-readiness-week-1-Dor-sketch\n",
    "\n",
    "https://github.com/github-student-developer-pack/career-readiness-week-1-Dor-sketch\n",
    "\n",
    "\n"
   ]
  },
  {
   "cell_type": "code",
   "execution_count": null,
   "metadata": {},
   "outputs": [],
   "source": [
    "# Close the database connection\n",
    "conn.close()\n"
   ]
  },
  {
   "cell_type": "markdown",
   "metadata": {},
   "source": [
    "# 3 using ext sql"
   ]
  },
  {
   "cell_type": "code",
   "execution_count": null,
   "metadata": {},
   "outputs": [],
   "source": [
    "%load_ext sql"
   ]
  },
  {
   "cell_type": "code",
   "execution_count": null,
   "metadata": {},
   "outputs": [],
   "source": [
    "%sql sqlite:///gardening.db"
   ]
  },
  {
   "cell_type": "markdown",
   "metadata": {},
   "source": [
    "# SUBQURRIES"
   ]
  },
  {
   "cell_type": "markdown",
   "metadata": {},
   "source": [
    "## 3.22 plant with max size using subquiry"
   ]
  },
  {
   "cell_type": "code",
   "execution_count": null,
   "metadata": {
    "vscode": {
     "languageId": "sql"
    }
   },
   "outputs": [],
   "source": [
    "%%sql\n",
    "SELECT pname\n",
    "FROM plant\n",
    "WHERE ptype IN ('עץ פרי', 'עץ נוי');"
   ]
  },
  {
   "cell_type": "code",
   "execution_count": null,
   "metadata": {
    "vscode": {
     "languageId": "sql"
    }
   },
   "outputs": [],
   "source": [
    "%%sql\n",
    "-- # 3.22 plant with max size using subquiry\n",
    "-- ALL operator not supported!!!\n",
    "select pname as tallest_plant\n",
    "from plant\n",
    "where pmaxheight >=all(select pmaxheight from plant);\n"
   ]
  },
  {
   "cell_type": "code",
   "execution_count": null,
   "metadata": {
    "vscode": {
     "languageId": "sql"
    }
   },
   "outputs": [],
   "source": [
    "%%sql\n",
    "-- 3.22\n",
    "select pname as tallest_plant\n",
    "from plant\n",
    "where pmaxheight = (select max(pmaxheight) from plant);"
   ]
  },
  {
   "cell_type": "markdown",
   "metadata": {},
   "source": [
    "## 3.23 anames where heights diffrences is the biggest"
   ]
  },
  {
   "cell_type": "markdown",
   "metadata": {},
   "source": [
    "subqury inside having line"
   ]
  },
  {
   "cell_type": "code",
   "execution_count": null,
   "metadata": {
    "vscode": {
     "languageId": "sql"
    }
   },
   "outputs": [],
   "source": [
    "%%sql\n",
    "select aname\n",
    "from plant, plantingmap\n",
    "where plant.pname = plantingmap.pname\n",
    "group by aname\n",
    "having (max(pmaxheight)-min(pmaxheight)) >= all\n",
    "    (select )"
   ]
  },
  {
   "cell_type": "markdown",
   "metadata": {},
   "source": [
    "# EXIST - check if there is a table in a subquary\n",
    "retutn true / FALSE\n",
    "NEED SUBQUIRRY!!!\n",
    "\n",
    "a * querry returns  full rows..."
   ]
  },
  {
   "cell_type": "code",
   "execution_count": 11,
   "metadata": {
    "vscode": {
     "languageId": "sql"
    }
   },
   "outputs": [
    {
     "name": "stdout",
     "output_type": "stream",
     "text": [
      " * sqlite:///gardening.db\n",
      "Done.\n"
     ]
    },
    {
     "data": {
      "text/html": [
       "<table>\n",
       "    <thead>\n",
       "        <tr>\n",
       "            <th>pname</th>\n",
       "        </tr>\n",
       "    </thead>\n",
       "    <tbody>\n",
       "        <tr>\n",
       "            <td>חרוב מצוי</td>\n",
       "        </tr>\n",
       "        <tr>\n",
       "            <td>אחירותם</td>\n",
       "        </tr>\n",
       "        <tr>\n",
       "            <td>my_bush1</td>\n",
       "        </tr>\n",
       "        <tr>\n",
       "            <td>my_bush2</td>\n",
       "        </tr>\n",
       "        <tr>\n",
       "            <td>צבעוני ההרים</td>\n",
       "        </tr>\n",
       "    </tbody>\n",
       "</table>"
      ],
      "text/plain": [
       "[('חרוב מצוי',), ('אחירותם',), ('my_bush1',), ('my_bush2',), ('צבעוני ההרים',)]"
      ]
     },
     "execution_count": 11,
     "metadata": {},
     "output_type": "execute_result"
    }
   ],
   "source": [
    "%%sql\n",
    "-- 3.24 find a plant that is planted in only one anmae\n",
    "SELECT p1.pname\n",
    "FROM plantingmap AS p1\n",
    "WHERE NOT EXISTS (\n",
    "    SELECT *\n",
    "    FROM plantingmap AS p2\n",
    "    WHERE p1.pname = p2.pname\n",
    "    AND p1.aname <> p2.aname\n",
    ");"
   ]
  },
  {
   "cell_type": "code",
   "execution_count": null,
   "metadata": {
    "vscode": {
     "languageId": "sql"
    }
   },
   "outputs": [],
   "source": [
    "wrong!!!! - I groped by aname instead of pname!!!!"
   ]
  },
  {
   "cell_type": "code",
   "execution_count": null,
   "metadata": {
    "vscode": {
     "languageId": "sql"
    }
   },
   "outputs": [],
   "source": [
    "%%sql\n",
    "-- 3.24 again but with grouping\n",
    "--  maybe count?\n",
    "\n",
    "select pname\n",
    "from plantingmap\n",
    "group by aname\n",
    "having count (aname) = 1;"
   ]
  },
  {
   "cell_type": "code",
   "execution_count": 10,
   "metadata": {
    "vscode": {
     "languageId": "sql"
    }
   },
   "outputs": [
    {
     "name": "stdout",
     "output_type": "stream",
     "text": [
      " * sqlite:///gardening.db\n",
      "Done.\n"
     ]
    },
    {
     "data": {
      "text/html": [
       "<table>\n",
       "    <thead>\n",
       "        <tr>\n",
       "            <th>pname</th>\n",
       "        </tr>\n",
       "    </thead>\n",
       "    <tbody>\n",
       "        <tr>\n",
       "            <td>my_bush1</td>\n",
       "        </tr>\n",
       "        <tr>\n",
       "            <td>my_bush2</td>\n",
       "        </tr>\n",
       "        <tr>\n",
       "            <td>אחירותם</td>\n",
       "        </tr>\n",
       "        <tr>\n",
       "            <td>חרוב מצוי</td>\n",
       "        </tr>\n",
       "        <tr>\n",
       "            <td>צבעוני ההרים</td>\n",
       "        </tr>\n",
       "    </tbody>\n",
       "</table>"
      ],
      "text/plain": [
       "[('my_bush1',), ('my_bush2',), ('אחירותם',), ('חרוב מצוי',), ('צבעוני ההרים',)]"
      ]
     },
     "execution_count": 10,
     "metadata": {},
     "output_type": "execute_result"
    }
   ],
   "source": [
    "%%sql \n",
    "-- trying again\n",
    "\n",
    "select pname\n",
    "from plantingmap\n",
    "group by pname\n",
    "having count(distinct aname) = 1;"
   ]
  },
  {
   "cell_type": "code",
   "execution_count": null,
   "metadata": {
    "vscode": {
     "languageId": "sql"
    }
   },
   "outputs": [],
   "source": [
    "%%sql\n",
    "--3.25 find anames that have at least all plants from 'שדרות הזמיר'\n",
    "\n",
    "select aname\n",
    "from plantingmap\n",
    "group by aname\n",
    "where\n",
    "\n",
    "wrong!!!!!!!!!!!!!!!!!!!!!!!!!!!!!!!!!!!!!!!!!!!!!!!!!!!!!!!!!!!!!!!!!!"
   ]
  }
 ],
 "metadata": {
  "kernelspec": {
   "display_name": "Python 3",
   "language": "python",
   "name": "python3"
  },
  "language_info": {
   "codemirror_mode": {
    "name": "ipython",
    "version": 3
   },
   "file_extension": ".py",
   "mimetype": "text/x-python",
   "name": "python",
   "nbconvert_exporter": "python",
   "pygments_lexer": "ipython3",
   "version": "3.10.12"
  },
  "orig_nbformat": 4
 },
 "nbformat": 4,
 "nbformat_minor": 2
}
