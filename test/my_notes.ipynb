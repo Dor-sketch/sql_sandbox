{
 "cells": [
  {
   "cell_type": "markdown",
   "metadata": {},
   "source": [
    "# Import garden.db"
   ]
  },
  {
   "cell_type": "markdown",
   "metadata": {},
   "source": [
    "### 3.1 all plants in db"
   ]
  },
  {
   "cell_type": "code",
   "execution_count": 1,
   "metadata": {},
   "outputs": [],
   "source": [
    "import sqlite3\n",
    "\n",
    "# Connect to the database\n",
    "conn = sqlite3.connect('gardening.db')\n",
    "c = conn.cursor()\n",
    "\n",
    "import readline\n",
    "\n",
    "# Connect to the database\n",
    "conn = sqlite3.connect('gardening.db')\n",
    "c = conn.cursor()\n",
    "\n",
    "# Set up readline for console input\n",
    "readline.parse_and_bind(\"tab: complete\")\n",
    "readline.set_history_length(1000)\n",
    "\n",
    "# Define a function to execute a SQL query\n",
    "def execute_query(query):\n",
    "    try:\n",
    "        print(\"=========================================\")\n",
    "        # Execute the SQL query\n",
    "        c.execute(query)\n",
    "\n",
    "        # Get column names\n",
    "        column_names = [description[0] for description in c.description] if c.description else []\n",
    "\n",
    "        # Print column names\n",
    "        for col_name in column_names:\n",
    "            print(col_name, end=\"\\t\")\n",
    "        if column_names:\n",
    "            print()  # New line after column names\n",
    "\n",
    "\n",
    "        results = c.fetchall()\n",
    "\n",
    "        # Print the results\n",
    "        if len(results) == 0:\n",
    "            print(\"No results found.\")\n",
    "        else:\n",
    "            for row in results:\n",
    "                print(row)\n",
    "\n",
    "        print(\"=========================================\")\n",
    "        \n",
    "        # Commit the changes to the database\n",
    "        conn.commit()\n",
    "\n",
    "        # Print a message for successful INSERT, UPDATE, or DELETE statements\n",
    "        if c.rowcount > 0:\n",
    "            print(\"Query executed successfully.\")\n",
    "\n",
    "        # Print the last inserted row ID for INSERT statements\n",
    "        if query.lower().startswith('insert'):\n",
    "            print(\"Last inserted row ID:\", c.lastrowid)\n",
    "\n",
    "    except sqlite3.Error as e:\n",
    "        # Print an error message if the query fails\n",
    "        print(\"An error occurred:\", e)\n",
    "\n",
    "# Loop to prompt the user for input\n",
    "query_lines = []\n",
    "while True:\n",
    "    try:\n",
    "        # Check if it's the beginning of a new command\n",
    "        if not query_lines:\n",
    "            prompt = \"Enter a SQL query (or 'exit' to quit): \\n\"\n",
    "        else:\n",
    "            prompt = ''\n",
    "\n",
    "        line = input(prompt)\n",
    "        \n",
    "        # If the user just presses Enter without typing anything, consider it as execution time\n",
    "        if not line.strip() and query_lines:\n",
    "            query = ' '.join(query_lines)\n",
    "            query_lines.clear()\n",
    "            execute_query(query)\n",
    "        else:\n",
    "            query_lines.append(line)\n",
    "\n",
    "    except KeyboardInterrupt:\n",
    "        # Handle Ctrl+C to exit the loop cleanly\n",
    "        print(\"\\nExiting...\")\n",
    "        break\n",
    "\n",
    "    # Check if the user wants to exit\n",
    "    if line.lower() == 'exit':\n",
    "        break\n",
    "\n",
    "    # Handle up arrow to load last query (this remains unchanged, but might need a different approach)\n",
    "    if line == '':\n",
    "        query = readline.get_history_item(readline.get_current_history_length())\n",
    "\n",
    "    # Add the query to the history (this remains unchanged)\n",
    "    readline.add_history(line)\n",
    "\n"
   ]
  },
  {
   "cell_type": "code",
   "execution_count": 2,
   "metadata": {},
   "outputs": [
    {
     "name": "stdout",
     "output_type": "stream",
     "text": [
      "=========================================\n",
      "pname\t\n",
      "('חרוב מצוי',)\n",
      "('זית',)\n",
      "('ברוש',)\n",
      "('דולב',)\n",
      "('אורן ירושלים',)\n",
      "=========================================\n"
     ]
    }
   ],
   "source": [
    "query = \"\"\"\n",
    "SELECT pname\n",
    "FROM plant\n",
    "WHERE ptype IN ('עץ פרי', 'עץ נוי');\n",
    "\"\"\"\n",
    "execute_query(query)"
   ]
  },
  {
   "cell_type": "markdown",
   "metadata": {},
   "source": [
    "career-readiness-week-1-Dor-sketch\n",
    "\n",
    "https://github.com/github-student-developer-pack/career-readiness-week-1-Dor-sketch\n",
    "\n",
    "\n"
   ]
  },
  {
   "cell_type": "code",
   "execution_count": 3,
   "metadata": {},
   "outputs": [],
   "source": [
    "# Close the database connection\n",
    "conn.close()\n"
   ]
  },
  {
   "cell_type": "markdown",
   "metadata": {},
   "source": [
    "# 3 using ext sql"
   ]
  },
  {
   "cell_type": "code",
   "execution_count": 4,
   "metadata": {},
   "outputs": [],
   "source": [
    "%load_ext sql"
   ]
  },
  {
   "cell_type": "code",
   "execution_count": 5,
   "metadata": {},
   "outputs": [],
   "source": [
    "%sql sqlite:///gardening.db"
   ]
  },
  {
   "cell_type": "markdown",
   "metadata": {},
   "source": [
    "# SUBQURRIES"
   ]
  },
  {
   "cell_type": "markdown",
   "metadata": {},
   "source": [
    "## 3.22 plant with max size using subquiry"
   ]
  },
  {
   "cell_type": "code",
   "execution_count": 6,
   "metadata": {
    "vscode": {
     "languageId": "sql"
    }
   },
   "outputs": [
    {
     "name": "stdout",
     "output_type": "stream",
     "text": [
      " * sqlite:///gardening.db\n",
      "Done.\n"
     ]
    },
    {
     "data": {
      "text/html": [
       "<table>\n",
       "    <thead>\n",
       "        <tr>\n",
       "            <th>pname</th>\n",
       "        </tr>\n",
       "    </thead>\n",
       "    <tbody>\n",
       "        <tr>\n",
       "            <td>חרוב מצוי</td>\n",
       "        </tr>\n",
       "        <tr>\n",
       "            <td>זית</td>\n",
       "        </tr>\n",
       "        <tr>\n",
       "            <td>ברוש</td>\n",
       "        </tr>\n",
       "        <tr>\n",
       "            <td>דולב</td>\n",
       "        </tr>\n",
       "        <tr>\n",
       "            <td>אורן ירושלים</td>\n",
       "        </tr>\n",
       "    </tbody>\n",
       "</table>"
      ],
      "text/plain": [
       "[('חרוב מצוי',), ('זית',), ('ברוש',), ('דולב',), ('אורן ירושלים',)]"
      ]
     },
     "execution_count": 6,
     "metadata": {},
     "output_type": "execute_result"
    }
   ],
   "source": [
    "%%sql\n",
    "SELECT pname\n",
    "FROM plant\n",
    "WHERE ptype IN ('עץ פרי', 'עץ נוי');"
   ]
  },
  {
   "cell_type": "code",
   "execution_count": 7,
   "metadata": {
    "vscode": {
     "languageId": "sql"
    }
   },
   "outputs": [
    {
     "name": "stdout",
     "output_type": "stream",
     "text": [
      " * sqlite:///gardening.db\n",
      "(sqlite3.OperationalError) near \"all\": syntax error\n",
      "[SQL: -- # 3.22 plant with max size using subquiry\n",
      "-- ALL operator not supported!!!\n",
      "select pname as tallest_plant\n",
      "from plant\n",
      "where pmaxheight >=all(select pmaxheight from plant);]\n",
      "(Background on this error at: https://sqlalche.me/e/20/e3q8)\n"
     ]
    }
   ],
   "source": [
    "%%sql\n",
    "-- # 3.22 plant with max size using subquiry\n",
    "-- ALL operator not supported!!!\n",
    "select pname as tallest_plant\n",
    "from plant\n",
    "where pmaxheight >=all(select pmaxheight from plant);\n"
   ]
  },
  {
   "cell_type": "code",
   "execution_count": 8,
   "metadata": {
    "vscode": {
     "languageId": "sql"
    }
   },
   "outputs": [
    {
     "name": "stdout",
     "output_type": "stream",
     "text": [
      " * sqlite:///gardening.db\n",
      "Done.\n"
     ]
    },
    {
     "data": {
      "text/html": [
       "<table>\n",
       "    <thead>\n",
       "        <tr>\n",
       "            <th>tallest_plant</th>\n",
       "        </tr>\n",
       "    </thead>\n",
       "    <tbody>\n",
       "        <tr>\n",
       "            <td>ברוש</td>\n",
       "        </tr>\n",
       "        <tr>\n",
       "            <td>דולב</td>\n",
       "        </tr>\n",
       "    </tbody>\n",
       "</table>"
      ],
      "text/plain": [
       "[('ברוש',), ('דולב',)]"
      ]
     },
     "execution_count": 8,
     "metadata": {},
     "output_type": "execute_result"
    }
   ],
   "source": [
    "%%sql\n",
    "-- 3.22\n",
    "select pname as tallest_plant\n",
    "from plant\n",
    "where pmaxheight = (select max(pmaxheight) from plant);"
   ]
  },
  {
   "cell_type": "markdown",
   "metadata": {},
   "source": [
    "## 3.23 anames where heights diffrences is the biggest"
   ]
  },
  {
   "cell_type": "markdown",
   "metadata": {},
   "source": [
    "subqury inside having line"
   ]
  },
  {
   "cell_type": "code",
   "execution_count": 9,
   "metadata": {
    "vscode": {
     "languageId": "sql"
    }
   },
   "outputs": [
    {
     "name": "stdout",
     "output_type": "stream",
     "text": [
      " * sqlite:///gardening.db\n",
      "(sqlite3.OperationalError) near \"all\": syntax error\n",
      "[SQL: select aname\n",
      "from plant, plantingmap\n",
      "where plant.pname = plantingmap.pname\n",
      "group by aname\n",
      "having (max(pmaxheight)-min(pmaxheight)) >= all\n",
      "    (select )]\n",
      "(Background on this error at: https://sqlalche.me/e/20/e3q8)\n"
     ]
    }
   ],
   "source": [
    "%%sql\n",
    "select aname\n",
    "from plant, plantingmap\n",
    "where plant.pname = plantingmap.pname\n",
    "group by aname\n",
    "having (max(pmaxheight)-min(pmaxheight)) >= all\n",
    "    (select )"
   ]
  },
  {
   "cell_type": "markdown",
   "metadata": {},
   "source": [
    "# EXIST - check if there is a table in a subquary\n",
    "retutn true / FALSE\n",
    "NEED SUBQUIRRY!!!\n",
    "\n",
    "a * querry returns  full rows..."
   ]
  },
  {
   "cell_type": "code",
   "execution_count": 10,
   "metadata": {
    "vscode": {
     "languageId": "sql"
    }
   },
   "outputs": [
    {
     "name": "stdout",
     "output_type": "stream",
     "text": [
      " * sqlite:///gardening.db\n",
      "Done.\n"
     ]
    },
    {
     "data": {
      "text/html": [
       "<table>\n",
       "    <thead>\n",
       "        <tr>\n",
       "            <th>pname</th>\n",
       "        </tr>\n",
       "    </thead>\n",
       "    <tbody>\n",
       "        <tr>\n",
       "            <td>חרוב מצוי</td>\n",
       "        </tr>\n",
       "        <tr>\n",
       "            <td>אחירותם</td>\n",
       "        </tr>\n",
       "        <tr>\n",
       "            <td>my_bush1</td>\n",
       "        </tr>\n",
       "        <tr>\n",
       "            <td>my_bush2</td>\n",
       "        </tr>\n",
       "        <tr>\n",
       "            <td>צבעוני ההרים</td>\n",
       "        </tr>\n",
       "    </tbody>\n",
       "</table>"
      ],
      "text/plain": [
       "[('חרוב מצוי',), ('אחירותם',), ('my_bush1',), ('my_bush2',), ('צבעוני ההרים',)]"
      ]
     },
     "execution_count": 10,
     "metadata": {},
     "output_type": "execute_result"
    }
   ],
   "source": [
    "%%sql\n",
    "-- 3.24 find a plant that is planted in only one anmae\n",
    "SELECT p1.pname\n",
    "FROM plantingmap AS p1\n",
    "WHERE NOT EXISTS (\n",
    "    SELECT *\n",
    "    FROM plantingmap AS p2\n",
    "    WHERE p1.pname = p2.pname\n",
    "    AND p1.aname <> p2.aname\n",
    ");"
   ]
  },
  {
   "cell_type": "markdown",
   "metadata": {
    "vscode": {
     "languageId": "sql"
    }
   },
   "source": [
    "wrong!!!! - I groped by aname instead of pname!!!!"
   ]
  },
  {
   "cell_type": "code",
   "execution_count": 12,
   "metadata": {
    "vscode": {
     "languageId": "sql"
    }
   },
   "outputs": [
    {
     "name": "stdout",
     "output_type": "stream",
     "text": [
      " * sqlite:///gardening.db\n",
      "Done.\n"
     ]
    },
    {
     "data": {
      "text/html": [
       "<table>\n",
       "    <thead>\n",
       "        <tr>\n",
       "            <th>pname</th>\n",
       "        </tr>\n",
       "    </thead>\n",
       "    <tbody>\n",
       "    </tbody>\n",
       "</table>"
      ],
      "text/plain": [
       "[]"
      ]
     },
     "execution_count": 12,
     "metadata": {},
     "output_type": "execute_result"
    }
   ],
   "source": [
    "%%sql\n",
    "-- 3.24 again but with grouping\n",
    "--  maybe count?\n",
    "\n",
    "select pname\n",
    "from plantingmap\n",
    "group by aname\n",
    "having count (aname) = 1;"
   ]
  },
  {
   "cell_type": "code",
   "execution_count": 13,
   "metadata": {
    "vscode": {
     "languageId": "sql"
    }
   },
   "outputs": [
    {
     "name": "stdout",
     "output_type": "stream",
     "text": [
      " * sqlite:///gardening.db\n",
      "Done.\n"
     ]
    },
    {
     "data": {
      "text/html": [
       "<table>\n",
       "    <thead>\n",
       "        <tr>\n",
       "            <th>pname</th>\n",
       "        </tr>\n",
       "    </thead>\n",
       "    <tbody>\n",
       "        <tr>\n",
       "            <td>my_bush1</td>\n",
       "        </tr>\n",
       "        <tr>\n",
       "            <td>my_bush2</td>\n",
       "        </tr>\n",
       "        <tr>\n",
       "            <td>אחירותם</td>\n",
       "        </tr>\n",
       "        <tr>\n",
       "            <td>חרוב מצוי</td>\n",
       "        </tr>\n",
       "        <tr>\n",
       "            <td>צבעוני ההרים</td>\n",
       "        </tr>\n",
       "    </tbody>\n",
       "</table>"
      ],
      "text/plain": [
       "[('my_bush1',), ('my_bush2',), ('אחירותם',), ('חרוב מצוי',), ('צבעוני ההרים',)]"
      ]
     },
     "execution_count": 13,
     "metadata": {},
     "output_type": "execute_result"
    }
   ],
   "source": [
    "%%sql \n",
    "-- trying again\n",
    "\n",
    "select pname\n",
    "from plantingmap\n",
    "group by pname\n",
    "having count(distinct aname) = 1;"
   ]
  },
  {
   "cell_type": "markdown",
   "metadata": {},
   "source": [
    "show anames\n",
    "from the plantingmap\n",
    "group by anames\n",
    "where aname not exiest in\n",
    "    welect pnames from plantingmap as p2\n",
    "    where p2.aname = 'שדרת הזמיר'\n",
    "    and p2.aname <> p1.aname\n",
    "\n",
    "\n",
    "לא קיים בהן צמח שלא קיים בשדרות הזמיר\n",
    "\n",
    "\n",
    "    The GROUP BY should come after the WHERE clause.\n",
    "    The exists operator is used to determine the existence of rows in a subquery. It doesn't work directly with column values like in. The subquery with exists should be constructed using a correlated subquery.\n",
    "    In your subquery, you have written p1.panme which seems to be a typo. It should probably be p1.pname.\n",
    "    It's generally better to structure your query in a more readable format.\n",
    "\n",
    "Let me correct these issues and provide you with a new query:\n",
    "\n",
    "```sql\n",
    "\n",
    "SELECT DISTINCT p1.aname\n",
    "FROM plantingmap AS p1\n",
    "WHERE NOT EXISTS (\n",
    "    SELECT 1\n",
    "    FROM plantingmap AS p2\n",
    "    WHERE p2.aname = 'שדרות הזמיר'\n",
    "      AND p2.pname NOT IN (\n",
    "          SELECT pname\n",
    "          FROM plantingmap\n",
    "          WHERE aname = p1.aname\n",
    "      )\n",
    ");\n",
    "```\n",
    "This query selects all aname values where there isn't a plant\n",
    " (pname) in 'שדרות הזמיר' that doesn't exist in that aname's list of plants.\n"
   ]
  },
  {
   "cell_type": "code",
   "execution_count": 14,
   "metadata": {
    "vscode": {
     "languageId": "sql"
    }
   },
   "outputs": [
    {
     "name": "stdout",
     "output_type": "stream",
     "text": [
      " * sqlite:///gardening.db\n",
      "(sqlite3.OperationalError) near \"where\": syntax error\n",
      "[SQL: --3.25 find anames that have at least all plants from 'שדרות הזמיר'\n",
      "-- wrong!!! I write \"exist\" instead of \"exists\"\n",
      "select distinct p1.aname\n",
      "from plantingmap as p1\n",
      "group by aname\n",
      "where p1.pname not exists in\n",
      "    (select p1.panme from plantingmap as p2\n",
      "    where p2.aname = 'שדרות הזמיר'\n",
      "    and p2.pname <> p1.pname);]\n",
      "(Background on this error at: https://sqlalche.me/e/20/e3q8)\n"
     ]
    }
   ],
   "source": [
    "%%sql\n",
    "--3.25 find anames that have at least all plants from 'שדרות הזמיר'\n",
    "-- wrong!!! I write \"exist\" instead of \"exists\"\n",
    "select distinct p1.aname\n",
    "from plantingmap as p1\n",
    "group by aname\n",
    "where p1.pname not exists in\n",
    "    (select p1.panme from plantingmap as p2\n",
    "    where p2.aname = 'שדרות הזמיר'\n",
    "    and p2.pname <> p1.pname);\n"
   ]
  },
  {
   "cell_type": "code",
   "execution_count": 15,
   "metadata": {
    "vscode": {
     "languageId": "sql"
    }
   },
   "outputs": [
    {
     "name": "stdout",
     "output_type": "stream",
     "text": [
      " * sqlite:///gardening.db\n",
      "Done.\n"
     ]
    },
    {
     "data": {
      "text/html": [
       "<table>\n",
       "    <thead>\n",
       "        <tr>\n",
       "            <th>aname</th>\n",
       "        </tr>\n",
       "    </thead>\n",
       "    <tbody>\n",
       "        <tr>\n",
       "            <td>הטיילת</td>\n",
       "        </tr>\n",
       "        <tr>\n",
       "            <td>שדרות הזמיר</td>\n",
       "        </tr>\n",
       "    </tbody>\n",
       "</table>"
      ],
      "text/plain": [
       "[('הטיילת',), ('שדרות הזמיר',)]"
      ]
     },
     "execution_count": 15,
     "metadata": {},
     "output_type": "execute_result"
    }
   ],
   "source": [
    "%%sql\n",
    "\n",
    "SELECT DISTINCT p1.aname\n",
    "FROM plantingmap AS p1\n",
    "WHERE NOT EXISTS (\n",
    "    SELECT 1\n",
    "    FROM plantingmap AS p2\n",
    "    WHERE p2.aname = 'שדרות הזמיר'\n",
    "    -- wrong !!! and p2.pname <> p1.pname\n",
    "    AND p2.pname NOT IN (\n",
    "        SELECT pname\n",
    "        FROM plantingmap\n",
    "        where aname = p1.aname\n",
    "    )\n",
    ")"
   ]
  },
  {
   "cell_type": "code",
   "execution_count": 16,
   "metadata": {
    "vscode": {
     "languageId": "sql"
    }
   },
   "outputs": [
    {
     "name": "stdout",
     "output_type": "stream",
     "text": [
      " * sqlite:///gardening.db\n",
      "Done.\n"
     ]
    },
    {
     "data": {
      "text/html": [
       "<table>\n",
       "    <thead>\n",
       "        <tr>\n",
       "            <th>aname</th>\n",
       "        </tr>\n",
       "    </thead>\n",
       "    <tbody>\n",
       "        <tr>\n",
       "            <td>הטיילת</td>\n",
       "        </tr>\n",
       "        <tr>\n",
       "            <td>שדרות הזמיר</td>\n",
       "        </tr>\n",
       "    </tbody>\n",
       "</table>"
      ],
      "text/plain": [
       "[('הטיילת',), ('שדרות הזמיר',)]"
      ]
     },
     "execution_count": 16,
     "metadata": {},
     "output_type": "execute_result"
    }
   ],
   "source": [
    "%%sql\n",
    "-- 3.25\n",
    "SELECT DISTINCT P.aname\n",
    "FROM plantingmap AS P\n",
    "WHERE NOT EXISTS (SELECT 0\n",
    "                  FROM plantingmap\n",
    "                  WHERE aname = 'שדרות הזמיר'\n",
    "                    AND pname NOT IN \n",
    "                     (SELECT P1.pname\n",
    "                      FROM plantingmap as P1\n",
    "                      where P.aname = P1.aname)\n",
    "                 );"
   ]
  },
  {
   "cell_type": "markdown",
   "metadata": {},
   "source": [
    "-- 3.26: 3.24 - find plant that exist in at most 1 anme\n",
    "-- now with unique\n",
    "\n",
    "wrong! its possible that a plant wont be in any aname!!!!"
   ]
  },
  {
   "cell_type": "code",
   "execution_count": 17,
   "metadata": {
    "vscode": {
     "languageId": "sql"
    }
   },
   "outputs": [
    {
     "name": "stdout",
     "output_type": "stream",
     "text": [
      " * sqlite:///gardening.db\n",
      "(sqlite3.OperationalError) near \"unique\": syntax error\n",
      "[SQL: select aname\n",
      "from plantingmap\n",
      "where unique (select p1.pname\n",
      "                from plantingmap as p1\n",
      "                where p1.aname <> aname\n",
      "                  and p1.pname = pname);]\n",
      "(Background on this error at: https://sqlalche.me/e/20/e3q8)\n"
     ]
    }
   ],
   "source": [
    "%%sql\n",
    "\n",
    "select aname\n",
    "from plantingmap\n",
    "where unique (select p1.pname\n",
    "                from plantingmap as p1\n",
    "                where p1.aname <> aname\n",
    "                  and p1.pname = pname);"
   ]
  },
  {
   "cell_type": "code",
   "execution_count": 18,
   "metadata": {
    "vscode": {
     "languageId": "sql"
    }
   },
   "outputs": [
    {
     "name": "stdout",
     "output_type": "stream",
     "text": [
      " * sqlite:///gardening.db\n",
      "(sqlite3.OperationalError) near \"unique\": syntax error\n",
      "[SQL: select pname\n",
      "from plant as P1\n",
      "where unique (select pname\n",
      "              from palntingmap as P2\n",
      "              where P1.pname = P2.pname  );]\n",
      "(Background on this error at: https://sqlalche.me/e/20/e3q8)\n"
     ]
    }
   ],
   "source": [
    "%%sql\n",
    "\n",
    "select pname\n",
    "from plant as P1\n",
    "where unique (select pname\n",
    "              from palntingmap as P2\n",
    "              where P1.pname = P2.pname  );"
   ]
  },
  {
   "cell_type": "markdown",
   "metadata": {},
   "source": [
    "# EDITING DB"
   ]
  },
  {
   "cell_type": "code",
   "execution_count": 20,
   "metadata": {
    "vscode": {
     "languageId": "sql"
    }
   },
   "outputs": [
    {
     "name": "stdout",
     "output_type": "stream",
     "text": [
      " * sqlite:///gardening.db\n",
      "1 rows affected.\n"
     ]
    },
    {
     "data": {
      "text/plain": [
       "[]"
      ]
     },
     "execution_count": 20,
     "metadata": {},
     "output_type": "execute_result"
    }
   ],
   "source": [
    "%%sql\n",
    "INSERT INTO plant (pname, ptype, pdiameter, pmaxheight) \n",
    "VALUES ('Sunflower', 'flower', 10, 20);"
   ]
  },
  {
   "cell_type": "code",
   "execution_count": 21,
   "metadata": {
    "vscode": {
     "languageId": "sql"
    }
   },
   "outputs": [
    {
     "name": "stdout",
     "output_type": "stream",
     "text": [
      " * sqlite:///gardening.db\n",
      "1 rows affected.\n"
     ]
    },
    {
     "data": {
      "text/plain": [
       "[]"
      ]
     },
     "execution_count": 21,
     "metadata": {},
     "output_type": "execute_result"
    }
   ],
   "source": [
    "%%sql\n",
    "delete from plant\n",
    "where pname = 'Sunflower';"
   ]
  },
  {
   "cell_type": "code",
   "execution_count": 22,
   "metadata": {
    "vscode": {
     "languageId": "sql"
    }
   },
   "outputs": [
    {
     "name": "stdout",
     "output_type": "stream",
     "text": [
      " * sqlite:///gardening.db\n",
      "2 rows affected.\n"
     ]
    },
    {
     "data": {
      "text/plain": [
       "[]"
      ]
     },
     "execution_count": 22,
     "metadata": {},
     "output_type": "execute_result"
    }
   ],
   "source": [
    "%%sql\n",
    "\n",
    "insert into plant\n",
    "    values ('שזיף דובדבני', 'עץ נוי', 4.00, 7.00),\n",
    "            ('כליל החורש', 'עץ נוי', 3.00, 4.00);"
   ]
  },
  {
   "cell_type": "code",
   "execution_count": 24,
   "metadata": {
    "vscode": {
     "languageId": "sql"
    }
   },
   "outputs": [
    {
     "name": "stdout",
     "output_type": "stream",
     "text": [
      " * sqlite:///gardening.db\n",
      "4 rows affected.\n"
     ]
    },
    {
     "data": {
      "text/plain": [
       "[]"
      ]
     },
     "execution_count": 24,
     "metadata": {},
     "output_type": "execute_result"
    }
   ],
   "source": [
    "%%sql\n",
    "\n",
    "insert into plantingmap\n",
    "    select 'שזיף דובדבני', aname, amount\n",
    "    from plantingmap\n",
    "    where pname = 'אורן ירושלים';"
   ]
  },
  {
   "cell_type": "code",
   "execution_count": 25,
   "metadata": {
    "vscode": {
     "languageId": "sql"
    }
   },
   "outputs": [
    {
     "name": "stdout",
     "output_type": "stream",
     "text": [
      " * sqlite:///gardening.db\n",
      "4 rows affected.\n"
     ]
    },
    {
     "data": {
      "text/plain": [
       "[]"
      ]
     },
     "execution_count": 25,
     "metadata": {},
     "output_type": "execute_result"
    }
   ],
   "source": [
    "%%sql\n",
    "\n",
    "delete from plantingmap\n",
    "where pname = 'אורן ירושלים';"
   ]
  },
  {
   "cell_type": "code",
   "execution_count": 26,
   "metadata": {
    "vscode": {
     "languageId": "sql"
    }
   },
   "outputs": [
    {
     "name": "stdout",
     "output_type": "stream",
     "text": [
      " * sqlite:///gardening.db\n",
      "4 rows affected.\n"
     ]
    },
    {
     "data": {
      "text/plain": [
       "[]"
      ]
     },
     "execution_count": 26,
     "metadata": {},
     "output_type": "execute_result"
    }
   ],
   "source": [
    "%%sql\n",
    "\n",
    "update plantingmap\n",
    "set pname = 'אורן ירושלים'\n",
    "where pname =  'שזיף דובדבני';"
   ]
  },
  {
   "cell_type": "markdown",
   "metadata": {},
   "source": [
    "# join"
   ]
  },
  {
   "cell_type": "code",
   "execution_count": 27,
   "metadata": {
    "vscode": {
     "languageId": "sql"
    }
   },
   "outputs": [
    {
     "name": "stdout",
     "output_type": "stream",
     "text": [
      " * sqlite:///gardening.db\n",
      "Done.\n"
     ]
    },
    {
     "data": {
      "text/html": [
       "<table>\n",
       "    <thead>\n",
       "        <tr>\n",
       "            <th>pname</th>\n",
       "            <th>aname</th>\n",
       "            <th>amount</th>\n",
       "            <th>aname_1</th>\n",
       "            <th>alocation</th>\n",
       "            <th>atype</th>\n",
       "            <th>asize</th>\n",
       "        </tr>\n",
       "    </thead>\n",
       "    <tbody>\n",
       "        <tr>\n",
       "            <td>זית</td>\n",
       "            <td>גן העצמאות</td>\n",
       "            <td>10</td>\n",
       "            <td>גן העצמאות</td>\n",
       "            <td>רחוב העצמאות</td>\n",
       "            <td>פארק נופש פעיל</td>\n",
       "            <td>60000</td>\n",
       "        </tr>\n",
       "        <tr>\n",
       "            <td>ברוש</td>\n",
       "            <td>גן העצמאות</td>\n",
       "            <td>30</td>\n",
       "            <td>גן העצמאות</td>\n",
       "            <td>רחוב העצמאות</td>\n",
       "            <td>פארק נופש פעיל</td>\n",
       "            <td>60000</td>\n",
       "        </tr>\n",
       "        <tr>\n",
       "            <td>חבושית</td>\n",
       "            <td>גן העצמאות</td>\n",
       "            <td>200</td>\n",
       "            <td>גן העצמאות</td>\n",
       "            <td>רחוב העצמאות</td>\n",
       "            <td>פארק נופש פעיל</td>\n",
       "            <td>60000</td>\n",
       "        </tr>\n",
       "        <tr>\n",
       "            <td>לנטנה לילכית</td>\n",
       "            <td>גן העצמאות</td>\n",
       "            <td>150</td>\n",
       "            <td>גן העצמאות</td>\n",
       "            <td>רחוב העצמאות</td>\n",
       "            <td>פארק נופש פעיל</td>\n",
       "            <td>60000</td>\n",
       "        </tr>\n",
       "        <tr>\n",
       "            <td>ורד</td>\n",
       "            <td>גן העצמאות</td>\n",
       "            <td>130</td>\n",
       "            <td>גן העצמאות</td>\n",
       "            <td>רחוב העצמאות</td>\n",
       "            <td>פארק נופש פעיל</td>\n",
       "            <td>60000</td>\n",
       "        </tr>\n",
       "        <tr>\n",
       "            <td>ציפורני חתול</td>\n",
       "            <td>גן העצמאות</td>\n",
       "            <td>250</td>\n",
       "            <td>גן העצמאות</td>\n",
       "            <td>רחוב העצמאות</td>\n",
       "            <td>פארק נופש פעיל</td>\n",
       "            <td>60000</td>\n",
       "        </tr>\n",
       "        <tr>\n",
       "            <td>חרוב מצוי</td>\n",
       "            <td>כיכר הכניסה</td>\n",
       "            <td>5</td>\n",
       "            <td>כיכר הכניסה</td>\n",
       "            <td>כיכר הכניסה</td>\n",
       "            <td>פארק נופש פעיל</td>\n",
       "            <td>2500</td>\n",
       "        </tr>\n",
       "        <tr>\n",
       "            <td>זית</td>\n",
       "            <td>כיכר הכניסה</td>\n",
       "            <td>7</td>\n",
       "            <td>כיכר הכניסה</td>\n",
       "            <td>כיכר הכניסה</td>\n",
       "            <td>פארק נופש פעיל</td>\n",
       "            <td>2500</td>\n",
       "        </tr>\n",
       "        <tr>\n",
       "            <td>רוזמרין</td>\n",
       "            <td>כיכר הכניסה</td>\n",
       "            <td>50</td>\n",
       "            <td>כיכר הכניסה</td>\n",
       "            <td>כיכר הכניסה</td>\n",
       "            <td>פארק נופש פעיל</td>\n",
       "            <td>2500</td>\n",
       "        </tr>\n",
       "        <tr>\n",
       "            <td>ורד</td>\n",
       "            <td>כיכר הכניסה</td>\n",
       "            <td>50</td>\n",
       "            <td>כיכר הכניסה</td>\n",
       "            <td>כיכר הכניסה</td>\n",
       "            <td>פארק נופש פעיל</td>\n",
       "            <td>2500</td>\n",
       "        </tr>\n",
       "        <tr>\n",
       "            <td>ברוש</td>\n",
       "            <td>שדרת הראשונים</td>\n",
       "            <td>100</td>\n",
       "            <td>שדרת הראשונים</td>\n",
       "            <td>רחוב הראשונים</td>\n",
       "            <td>אי תנועה</td>\n",
       "            <td>1500</td>\n",
       "        </tr>\n",
       "        <tr>\n",
       "            <td>צבעוני ההרים</td>\n",
       "            <td>שדרת הראשונים</td>\n",
       "            <td>50</td>\n",
       "            <td>שדרת הראשונים</td>\n",
       "            <td>רחוב הראשונים</td>\n",
       "            <td>אי תנועה</td>\n",
       "            <td>1500</td>\n",
       "        </tr>\n",
       "        <tr>\n",
       "            <td>ציפורני חתול</td>\n",
       "            <td>שדרת הראשונים</td>\n",
       "            <td>250</td>\n",
       "            <td>שדרת הראשונים</td>\n",
       "            <td>רחוב הראשונים</td>\n",
       "            <td>אי תנועה</td>\n",
       "            <td>1500</td>\n",
       "        </tr>\n",
       "        <tr>\n",
       "            <td>ברוש</td>\n",
       "            <td>כיכר הרכבת</td>\n",
       "            <td>2</td>\n",
       "            <td>כיכר הרכבת</td>\n",
       "            <td>כיכר הרכבת</td>\n",
       "            <td>שדרה מרכזית</td>\n",
       "            <td>3000</td>\n",
       "        </tr>\n",
       "        <tr>\n",
       "            <td>חבושית</td>\n",
       "            <td>כיכר הרכבת</td>\n",
       "            <td>15</td>\n",
       "            <td>כיכר הרכבת</td>\n",
       "            <td>כיכר הרכבת</td>\n",
       "            <td>שדרה מרכזית</td>\n",
       "            <td>3000</td>\n",
       "        </tr>\n",
       "        <tr>\n",
       "            <td>רוזמרין</td>\n",
       "            <td>כיכר הרכבת</td>\n",
       "            <td>20</td>\n",
       "            <td>כיכר הרכבת</td>\n",
       "            <td>כיכר הרכבת</td>\n",
       "            <td>שדרה מרכזית</td>\n",
       "            <td>3000</td>\n",
       "        </tr>\n",
       "        <tr>\n",
       "            <td>אחירותם</td>\n",
       "            <td>כיכר הרכבת</td>\n",
       "            <td>10</td>\n",
       "            <td>כיכר הרכבת</td>\n",
       "            <td>כיכר הרכבת</td>\n",
       "            <td>שדרה מרכזית</td>\n",
       "            <td>3000</td>\n",
       "        </tr>\n",
       "        <tr>\n",
       "            <td>דולב</td>\n",
       "            <td>שדרות הזמיר</td>\n",
       "            <td>20</td>\n",
       "            <td>שדרות הזמיר</td>\n",
       "            <td>שדרות הזמיר</td>\n",
       "            <td>גן עם מתקנים</td>\n",
       "            <td>900</td>\n",
       "        </tr>\n",
       "        <tr>\n",
       "            <td>רוזמרין</td>\n",
       "            <td>שדרות הזמיר</td>\n",
       "            <td>70</td>\n",
       "            <td>שדרות הזמיר</td>\n",
       "            <td>שדרות הזמיר</td>\n",
       "            <td>גן עם מתקנים</td>\n",
       "            <td>900</td>\n",
       "        </tr>\n",
       "        <tr>\n",
       "            <td>זית</td>\n",
       "            <td>כיכר העיריה</td>\n",
       "            <td>10</td>\n",
       "            <td>כיכר העיריה</td>\n",
       "            <td>כיכר העיריה</td>\n",
       "            <td>שדרה מרכזית</td>\n",
       "            <td>5000</td>\n",
       "        </tr>\n",
       "        <tr>\n",
       "            <td>ברוש</td>\n",
       "            <td>כיכר העיריה</td>\n",
       "            <td>8</td>\n",
       "            <td>כיכר העיריה</td>\n",
       "            <td>כיכר העיריה</td>\n",
       "            <td>שדרה מרכזית</td>\n",
       "            <td>5000</td>\n",
       "        </tr>\n",
       "        <tr>\n",
       "            <td>ורד</td>\n",
       "            <td>כיכר העיריה</td>\n",
       "            <td>30</td>\n",
       "            <td>כיכר העיריה</td>\n",
       "            <td>כיכר העיריה</td>\n",
       "            <td>שדרה מרכזית</td>\n",
       "            <td>5000</td>\n",
       "        </tr>\n",
       "        <tr>\n",
       "            <td>גפנית</td>\n",
       "            <td>כיכר העיריה</td>\n",
       "            <td>5</td>\n",
       "            <td>כיכר העיריה</td>\n",
       "            <td>כיכר העיריה</td>\n",
       "            <td>שדרה מרכזית</td>\n",
       "            <td>5000</td>\n",
       "        </tr>\n",
       "        <tr>\n",
       "            <td>חבושית</td>\n",
       "            <td>גינת הגפן</td>\n",
       "            <td>20</td>\n",
       "            <td>גינת הגפן</td>\n",
       "            <td>רחוב הארבעה</td>\n",
       "            <td>גן עם מתקנים</td>\n",
       "            <td>3600</td>\n",
       "        </tr>\n",
       "        <tr>\n",
       "            <td>גפנית</td>\n",
       "            <td>גינת הגפן</td>\n",
       "            <td>5</td>\n",
       "            <td>גינת הגפן</td>\n",
       "            <td>רחוב הארבעה</td>\n",
       "            <td>גן עם מתקנים</td>\n",
       "            <td>3600</td>\n",
       "        </tr>\n",
       "        <tr>\n",
       "            <td>ציפורני חתול</td>\n",
       "            <td>גינת הגפן</td>\n",
       "            <td>30</td>\n",
       "            <td>גינת הגפן</td>\n",
       "            <td>רחוב הארבעה</td>\n",
       "            <td>גן עם מתקנים</td>\n",
       "            <td>3600</td>\n",
       "        </tr>\n",
       "        <tr>\n",
       "            <td>דולב</td>\n",
       "            <td>הטיילת</td>\n",
       "            <td>50</td>\n",
       "            <td>הטיילת</td>\n",
       "            <td>רחוב הנשיאים</td>\n",
       "            <td>גן ציבורי</td>\n",
       "            <td>10000</td>\n",
       "        </tr>\n",
       "        <tr>\n",
       "            <td>זית</td>\n",
       "            <td>הטיילת</td>\n",
       "            <td>30</td>\n",
       "            <td>הטיילת</td>\n",
       "            <td>רחוב הנשיאים</td>\n",
       "            <td>גן ציבורי</td>\n",
       "            <td>10000</td>\n",
       "        </tr>\n",
       "        <tr>\n",
       "            <td>רוזמרין</td>\n",
       "            <td>הטיילת</td>\n",
       "            <td>70</td>\n",
       "            <td>הטיילת</td>\n",
       "            <td>רחוב הנשיאים</td>\n",
       "            <td>גן ציבורי</td>\n",
       "            <td>10000</td>\n",
       "        </tr>\n",
       "        <tr>\n",
       "            <td>ורד</td>\n",
       "            <td>הטיילת</td>\n",
       "            <td>80</td>\n",
       "            <td>הטיילת</td>\n",
       "            <td>רחוב הנשיאים</td>\n",
       "            <td>גן ציבורי</td>\n",
       "            <td>10000</td>\n",
       "        </tr>\n",
       "        <tr>\n",
       "            <td>חבושית</td>\n",
       "            <td>בריכת המים</td>\n",
       "            <td>30</td>\n",
       "            <td>בריכת המים</td>\n",
       "            <td>ירכתי העיר</td>\n",
       "            <td>איזור תיירות</td>\n",
       "            <td>400</td>\n",
       "        </tr>\n",
       "        <tr>\n",
       "            <td>ציפורני חתול</td>\n",
       "            <td>בריכת המים</td>\n",
       "            <td>80</td>\n",
       "            <td>בריכת המים</td>\n",
       "            <td>ירכתי העיר</td>\n",
       "            <td>איזור תיירות</td>\n",
       "            <td>400</td>\n",
       "        </tr>\n",
       "        <tr>\n",
       "            <td>חבושית</td>\n",
       "            <td>חצר המתנ&quot;ס</td>\n",
       "            <td>20</td>\n",
       "            <td>חצר המתנ&quot;ס</td>\n",
       "            <td>רחוב הדודאים</td>\n",
       "            <td>גן עם מתקנים</td>\n",
       "            <td>1500</td>\n",
       "        </tr>\n",
       "        <tr>\n",
       "            <td>רוזמרין</td>\n",
       "            <td>חצר המתנ&quot;ס</td>\n",
       "            <td>15</td>\n",
       "            <td>חצר המתנ&quot;ס</td>\n",
       "            <td>רחוב הדודאים</td>\n",
       "            <td>גן עם מתקנים</td>\n",
       "            <td>1500</td>\n",
       "        </tr>\n",
       "        <tr>\n",
       "            <td>לנטנה לילכית</td>\n",
       "            <td>חצר המתנ&quot;ס</td>\n",
       "            <td>10</td>\n",
       "            <td>חצר המתנ&quot;ס</td>\n",
       "            <td>רחוב הדודאים</td>\n",
       "            <td>גן עם מתקנים</td>\n",
       "            <td>1500</td>\n",
       "        </tr>\n",
       "        <tr>\n",
       "            <td>אורן ירושלים</td>\n",
       "            <td>גן העצמאות</td>\n",
       "            <td>20</td>\n",
       "            <td>גן העצמאות</td>\n",
       "            <td>רחוב העצמאות</td>\n",
       "            <td>פארק נופש פעיל</td>\n",
       "            <td>60000</td>\n",
       "        </tr>\n",
       "        <tr>\n",
       "            <td>אורן ירושלים</td>\n",
       "            <td>כיכר הרכבת</td>\n",
       "            <td>7</td>\n",
       "            <td>כיכר הרכבת</td>\n",
       "            <td>כיכר הרכבת</td>\n",
       "            <td>שדרה מרכזית</td>\n",
       "            <td>3000</td>\n",
       "        </tr>\n",
       "        <tr>\n",
       "            <td>אורן ירושלים</td>\n",
       "            <td>כיכר העיריה</td>\n",
       "            <td>8</td>\n",
       "            <td>כיכר העיריה</td>\n",
       "            <td>כיכר העיריה</td>\n",
       "            <td>שדרה מרכזית</td>\n",
       "            <td>5000</td>\n",
       "        </tr>\n",
       "        <tr>\n",
       "            <td>אורן ירושלים</td>\n",
       "            <td>חצר המתנ&quot;ס</td>\n",
       "            <td>10</td>\n",
       "            <td>חצר המתנ&quot;ס</td>\n",
       "            <td>רחוב הדודאים</td>\n",
       "            <td>גן עם מתקנים</td>\n",
       "            <td>1500</td>\n",
       "        </tr>\n",
       "    </tbody>\n",
       "</table>"
      ],
      "text/plain": [
       "[('זית', 'גן העצמאות', 10, 'גן העצמאות', 'רחוב העצמאות', 'פארק נופש פעיל', 60000),\n",
       " ('ברוש', 'גן העצמאות', 30, 'גן העצמאות', 'רחוב העצמאות', 'פארק נופש פעיל', 60000),\n",
       " ('חבושית', 'גן העצמאות', 200, 'גן העצמאות', 'רחוב העצמאות', 'פארק נופש פעיל', 60000),\n",
       " ('לנטנה לילכית', 'גן העצמאות', 150, 'גן העצמאות', 'רחוב העצמאות', 'פארק נופש פעיל', 60000),\n",
       " ('ורד', 'גן העצמאות', 130, 'גן העצמאות', 'רחוב העצמאות', 'פארק נופש פעיל', 60000),\n",
       " ('ציפורני חתול', 'גן העצמאות', 250, 'גן העצמאות', 'רחוב העצמאות', 'פארק נופש פעיל', 60000),\n",
       " ('חרוב מצוי', 'כיכר הכניסה', 5, 'כיכר הכניסה', 'כיכר הכניסה', 'פארק נופש פעיל', 2500),\n",
       " ('זית', 'כיכר הכניסה', 7, 'כיכר הכניסה', 'כיכר הכניסה', 'פארק נופש פעיל', 2500),\n",
       " ('רוזמרין', 'כיכר הכניסה', 50, 'כיכר הכניסה', 'כיכר הכניסה', 'פארק נופש פעיל', 2500),\n",
       " ('ורד', 'כיכר הכניסה', 50, 'כיכר הכניסה', 'כיכר הכניסה', 'פארק נופש פעיל', 2500),\n",
       " ('ברוש', 'שדרת הראשונים', 100, 'שדרת הראשונים', 'רחוב הראשונים', 'אי תנועה', 1500),\n",
       " ('צבעוני ההרים', 'שדרת הראשונים', 50, 'שדרת הראשונים', 'רחוב הראשונים', 'אי תנועה', 1500),\n",
       " ('ציפורני חתול', 'שדרת הראשונים', 250, 'שדרת הראשונים', 'רחוב הראשונים', 'אי תנועה', 1500),\n",
       " ('ברוש', 'כיכר הרכבת', 2, 'כיכר הרכבת', 'כיכר הרכבת', 'שדרה מרכזית', 3000),\n",
       " ('חבושית', 'כיכר הרכבת', 15, 'כיכר הרכבת', 'כיכר הרכבת', 'שדרה מרכזית', 3000),\n",
       " ('רוזמרין', 'כיכר הרכבת', 20, 'כיכר הרכבת', 'כיכר הרכבת', 'שדרה מרכזית', 3000),\n",
       " ('אחירותם', 'כיכר הרכבת', 10, 'כיכר הרכבת', 'כיכר הרכבת', 'שדרה מרכזית', 3000),\n",
       " ('דולב', 'שדרות הזמיר', 20, 'שדרות הזמיר', 'שדרות הזמיר', 'גן עם מתקנים', 900),\n",
       " ('רוזמרין', 'שדרות הזמיר', 70, 'שדרות הזמיר', 'שדרות הזמיר', 'גן עם מתקנים', 900),\n",
       " ('זית', 'כיכר העיריה', 10, 'כיכר העיריה', 'כיכר העיריה', 'שדרה מרכזית', 5000),\n",
       " ('ברוש', 'כיכר העיריה', 8, 'כיכר העיריה', 'כיכר העיריה', 'שדרה מרכזית', 5000),\n",
       " ('ורד', 'כיכר העיריה', 30, 'כיכר העיריה', 'כיכר העיריה', 'שדרה מרכזית', 5000),\n",
       " ('גפנית', 'כיכר העיריה', 5, 'כיכר העיריה', 'כיכר העיריה', 'שדרה מרכזית', 5000),\n",
       " ('חבושית', 'גינת הגפן', 20, 'גינת הגפן', 'רחוב הארבעה', 'גן עם מתקנים', 3600),\n",
       " ('גפנית', 'גינת הגפן', 5, 'גינת הגפן', 'רחוב הארבעה', 'גן עם מתקנים', 3600),\n",
       " ('ציפורני חתול', 'גינת הגפן', 30, 'גינת הגפן', 'רחוב הארבעה', 'גן עם מתקנים', 3600),\n",
       " ('דולב', 'הטיילת', 50, 'הטיילת', 'רחוב הנשיאים', 'גן ציבורי', 10000),\n",
       " ('זית', 'הטיילת', 30, 'הטיילת', 'רחוב הנשיאים', 'גן ציבורי', 10000),\n",
       " ('רוזמרין', 'הטיילת', 70, 'הטיילת', 'רחוב הנשיאים', 'גן ציבורי', 10000),\n",
       " ('ורד', 'הטיילת', 80, 'הטיילת', 'רחוב הנשיאים', 'גן ציבורי', 10000),\n",
       " ('חבושית', 'בריכת המים', 30, 'בריכת המים', 'ירכתי העיר', 'איזור תיירות', 400),\n",
       " ('ציפורני חתול', 'בריכת המים', 80, 'בריכת המים', 'ירכתי העיר', 'איזור תיירות', 400),\n",
       " ('חבושית', 'חצר המתנ\"ס', 20, 'חצר המתנ\"ס', 'רחוב הדודאים', 'גן עם מתקנים', 1500),\n",
       " ('רוזמרין', 'חצר המתנ\"ס', 15, 'חצר המתנ\"ס', 'רחוב הדודאים', 'גן עם מתקנים', 1500),\n",
       " ('לנטנה לילכית', 'חצר המתנ\"ס', 10, 'חצר המתנ\"ס', 'רחוב הדודאים', 'גן עם מתקנים', 1500),\n",
       " ('אורן ירושלים', 'גן העצמאות', 20, 'גן העצמאות', 'רחוב העצמאות', 'פארק נופש פעיל', 60000),\n",
       " ('אורן ירושלים', 'כיכר הרכבת', 7, 'כיכר הרכבת', 'כיכר הרכבת', 'שדרה מרכזית', 3000),\n",
       " ('אורן ירושלים', 'כיכר העיריה', 8, 'כיכר העיריה', 'כיכר העיריה', 'שדרה מרכזית', 5000),\n",
       " ('אורן ירושלים', 'חצר המתנ\"ס', 10, 'חצר המתנ\"ס', 'רחוב הדודאים', 'גן עם מתקנים', 1500)]"
      ]
     },
     "execution_count": 27,
     "metadata": {},
     "output_type": "execute_result"
    }
   ],
   "source": [
    "%%sql\n",
    "\n",
    "select *\n",
    "from plantingmap, area\n",
    "where plantingmap.aname = area.aname;"
   ]
  },
  {
   "cell_type": "code",
   "execution_count": 28,
   "metadata": {
    "vscode": {
     "languageId": "sql"
    }
   },
   "outputs": [
    {
     "name": "stdout",
     "output_type": "stream",
     "text": [
      " * sqlite:///gardening.db\n",
      "Done.\n"
     ]
    },
    {
     "data": {
      "text/html": [
       "<table>\n",
       "    <thead>\n",
       "        <tr>\n",
       "            <th>pname</th>\n",
       "            <th>aname</th>\n",
       "            <th>amount</th>\n",
       "            <th>alocation</th>\n",
       "            <th>atype</th>\n",
       "            <th>asize</th>\n",
       "        </tr>\n",
       "    </thead>\n",
       "    <tbody>\n",
       "        <tr>\n",
       "            <td>זית</td>\n",
       "            <td>גן העצמאות</td>\n",
       "            <td>10</td>\n",
       "            <td>רחוב העצמאות</td>\n",
       "            <td>פארק נופש פעיל</td>\n",
       "            <td>60000</td>\n",
       "        </tr>\n",
       "        <tr>\n",
       "            <td>ברוש</td>\n",
       "            <td>גן העצמאות</td>\n",
       "            <td>30</td>\n",
       "            <td>רחוב העצמאות</td>\n",
       "            <td>פארק נופש פעיל</td>\n",
       "            <td>60000</td>\n",
       "        </tr>\n",
       "        <tr>\n",
       "            <td>חבושית</td>\n",
       "            <td>גן העצמאות</td>\n",
       "            <td>200</td>\n",
       "            <td>רחוב העצמאות</td>\n",
       "            <td>פארק נופש פעיל</td>\n",
       "            <td>60000</td>\n",
       "        </tr>\n",
       "        <tr>\n",
       "            <td>לנטנה לילכית</td>\n",
       "            <td>גן העצמאות</td>\n",
       "            <td>150</td>\n",
       "            <td>רחוב העצמאות</td>\n",
       "            <td>פארק נופש פעיל</td>\n",
       "            <td>60000</td>\n",
       "        </tr>\n",
       "        <tr>\n",
       "            <td>ורד</td>\n",
       "            <td>גן העצמאות</td>\n",
       "            <td>130</td>\n",
       "            <td>רחוב העצמאות</td>\n",
       "            <td>פארק נופש פעיל</td>\n",
       "            <td>60000</td>\n",
       "        </tr>\n",
       "        <tr>\n",
       "            <td>ציפורני חתול</td>\n",
       "            <td>גן העצמאות</td>\n",
       "            <td>250</td>\n",
       "            <td>רחוב העצמאות</td>\n",
       "            <td>פארק נופש פעיל</td>\n",
       "            <td>60000</td>\n",
       "        </tr>\n",
       "        <tr>\n",
       "            <td>חרוב מצוי</td>\n",
       "            <td>כיכר הכניסה</td>\n",
       "            <td>5</td>\n",
       "            <td>כיכר הכניסה</td>\n",
       "            <td>פארק נופש פעיל</td>\n",
       "            <td>2500</td>\n",
       "        </tr>\n",
       "        <tr>\n",
       "            <td>זית</td>\n",
       "            <td>כיכר הכניסה</td>\n",
       "            <td>7</td>\n",
       "            <td>כיכר הכניסה</td>\n",
       "            <td>פארק נופש פעיל</td>\n",
       "            <td>2500</td>\n",
       "        </tr>\n",
       "        <tr>\n",
       "            <td>רוזמרין</td>\n",
       "            <td>כיכר הכניסה</td>\n",
       "            <td>50</td>\n",
       "            <td>כיכר הכניסה</td>\n",
       "            <td>פארק נופש פעיל</td>\n",
       "            <td>2500</td>\n",
       "        </tr>\n",
       "        <tr>\n",
       "            <td>ורד</td>\n",
       "            <td>כיכר הכניסה</td>\n",
       "            <td>50</td>\n",
       "            <td>כיכר הכניסה</td>\n",
       "            <td>פארק נופש פעיל</td>\n",
       "            <td>2500</td>\n",
       "        </tr>\n",
       "        <tr>\n",
       "            <td>ברוש</td>\n",
       "            <td>שדרת הראשונים</td>\n",
       "            <td>100</td>\n",
       "            <td>רחוב הראשונים</td>\n",
       "            <td>אי תנועה</td>\n",
       "            <td>1500</td>\n",
       "        </tr>\n",
       "        <tr>\n",
       "            <td>צבעוני ההרים</td>\n",
       "            <td>שדרת הראשונים</td>\n",
       "            <td>50</td>\n",
       "            <td>רחוב הראשונים</td>\n",
       "            <td>אי תנועה</td>\n",
       "            <td>1500</td>\n",
       "        </tr>\n",
       "        <tr>\n",
       "            <td>ציפורני חתול</td>\n",
       "            <td>שדרת הראשונים</td>\n",
       "            <td>250</td>\n",
       "            <td>רחוב הראשונים</td>\n",
       "            <td>אי תנועה</td>\n",
       "            <td>1500</td>\n",
       "        </tr>\n",
       "        <tr>\n",
       "            <td>ברוש</td>\n",
       "            <td>כיכר הרכבת</td>\n",
       "            <td>2</td>\n",
       "            <td>כיכר הרכבת</td>\n",
       "            <td>שדרה מרכזית</td>\n",
       "            <td>3000</td>\n",
       "        </tr>\n",
       "        <tr>\n",
       "            <td>חבושית</td>\n",
       "            <td>כיכר הרכבת</td>\n",
       "            <td>15</td>\n",
       "            <td>כיכר הרכבת</td>\n",
       "            <td>שדרה מרכזית</td>\n",
       "            <td>3000</td>\n",
       "        </tr>\n",
       "        <tr>\n",
       "            <td>רוזמרין</td>\n",
       "            <td>כיכר הרכבת</td>\n",
       "            <td>20</td>\n",
       "            <td>כיכר הרכבת</td>\n",
       "            <td>שדרה מרכזית</td>\n",
       "            <td>3000</td>\n",
       "        </tr>\n",
       "        <tr>\n",
       "            <td>אחירותם</td>\n",
       "            <td>כיכר הרכבת</td>\n",
       "            <td>10</td>\n",
       "            <td>כיכר הרכבת</td>\n",
       "            <td>שדרה מרכזית</td>\n",
       "            <td>3000</td>\n",
       "        </tr>\n",
       "        <tr>\n",
       "            <td>דולב</td>\n",
       "            <td>שדרות הזמיר</td>\n",
       "            <td>20</td>\n",
       "            <td>שדרות הזמיר</td>\n",
       "            <td>גן עם מתקנים</td>\n",
       "            <td>900</td>\n",
       "        </tr>\n",
       "        <tr>\n",
       "            <td>רוזמרין</td>\n",
       "            <td>שדרות הזמיר</td>\n",
       "            <td>70</td>\n",
       "            <td>שדרות הזמיר</td>\n",
       "            <td>גן עם מתקנים</td>\n",
       "            <td>900</td>\n",
       "        </tr>\n",
       "        <tr>\n",
       "            <td>זית</td>\n",
       "            <td>כיכר העיריה</td>\n",
       "            <td>10</td>\n",
       "            <td>כיכר העיריה</td>\n",
       "            <td>שדרה מרכזית</td>\n",
       "            <td>5000</td>\n",
       "        </tr>\n",
       "        <tr>\n",
       "            <td>ברוש</td>\n",
       "            <td>כיכר העיריה</td>\n",
       "            <td>8</td>\n",
       "            <td>כיכר העיריה</td>\n",
       "            <td>שדרה מרכזית</td>\n",
       "            <td>5000</td>\n",
       "        </tr>\n",
       "        <tr>\n",
       "            <td>ורד</td>\n",
       "            <td>כיכר העיריה</td>\n",
       "            <td>30</td>\n",
       "            <td>כיכר העיריה</td>\n",
       "            <td>שדרה מרכזית</td>\n",
       "            <td>5000</td>\n",
       "        </tr>\n",
       "        <tr>\n",
       "            <td>גפנית</td>\n",
       "            <td>כיכר העיריה</td>\n",
       "            <td>5</td>\n",
       "            <td>כיכר העיריה</td>\n",
       "            <td>שדרה מרכזית</td>\n",
       "            <td>5000</td>\n",
       "        </tr>\n",
       "        <tr>\n",
       "            <td>חבושית</td>\n",
       "            <td>גינת הגפן</td>\n",
       "            <td>20</td>\n",
       "            <td>רחוב הארבעה</td>\n",
       "            <td>גן עם מתקנים</td>\n",
       "            <td>3600</td>\n",
       "        </tr>\n",
       "        <tr>\n",
       "            <td>גפנית</td>\n",
       "            <td>גינת הגפן</td>\n",
       "            <td>5</td>\n",
       "            <td>רחוב הארבעה</td>\n",
       "            <td>גן עם מתקנים</td>\n",
       "            <td>3600</td>\n",
       "        </tr>\n",
       "        <tr>\n",
       "            <td>ציפורני חתול</td>\n",
       "            <td>גינת הגפן</td>\n",
       "            <td>30</td>\n",
       "            <td>רחוב הארבעה</td>\n",
       "            <td>גן עם מתקנים</td>\n",
       "            <td>3600</td>\n",
       "        </tr>\n",
       "        <tr>\n",
       "            <td>דולב</td>\n",
       "            <td>הטיילת</td>\n",
       "            <td>50</td>\n",
       "            <td>רחוב הנשיאים</td>\n",
       "            <td>גן ציבורי</td>\n",
       "            <td>10000</td>\n",
       "        </tr>\n",
       "        <tr>\n",
       "            <td>זית</td>\n",
       "            <td>הטיילת</td>\n",
       "            <td>30</td>\n",
       "            <td>רחוב הנשיאים</td>\n",
       "            <td>גן ציבורי</td>\n",
       "            <td>10000</td>\n",
       "        </tr>\n",
       "        <tr>\n",
       "            <td>רוזמרין</td>\n",
       "            <td>הטיילת</td>\n",
       "            <td>70</td>\n",
       "            <td>רחוב הנשיאים</td>\n",
       "            <td>גן ציבורי</td>\n",
       "            <td>10000</td>\n",
       "        </tr>\n",
       "        <tr>\n",
       "            <td>ורד</td>\n",
       "            <td>הטיילת</td>\n",
       "            <td>80</td>\n",
       "            <td>רחוב הנשיאים</td>\n",
       "            <td>גן ציבורי</td>\n",
       "            <td>10000</td>\n",
       "        </tr>\n",
       "        <tr>\n",
       "            <td>חבושית</td>\n",
       "            <td>בריכת המים</td>\n",
       "            <td>30</td>\n",
       "            <td>ירכתי העיר</td>\n",
       "            <td>איזור תיירות</td>\n",
       "            <td>400</td>\n",
       "        </tr>\n",
       "        <tr>\n",
       "            <td>ציפורני חתול</td>\n",
       "            <td>בריכת המים</td>\n",
       "            <td>80</td>\n",
       "            <td>ירכתי העיר</td>\n",
       "            <td>איזור תיירות</td>\n",
       "            <td>400</td>\n",
       "        </tr>\n",
       "        <tr>\n",
       "            <td>חבושית</td>\n",
       "            <td>חצר המתנ&quot;ס</td>\n",
       "            <td>20</td>\n",
       "            <td>רחוב הדודאים</td>\n",
       "            <td>גן עם מתקנים</td>\n",
       "            <td>1500</td>\n",
       "        </tr>\n",
       "        <tr>\n",
       "            <td>רוזמרין</td>\n",
       "            <td>חצר המתנ&quot;ס</td>\n",
       "            <td>15</td>\n",
       "            <td>רחוב הדודאים</td>\n",
       "            <td>גן עם מתקנים</td>\n",
       "            <td>1500</td>\n",
       "        </tr>\n",
       "        <tr>\n",
       "            <td>לנטנה לילכית</td>\n",
       "            <td>חצר המתנ&quot;ס</td>\n",
       "            <td>10</td>\n",
       "            <td>רחוב הדודאים</td>\n",
       "            <td>גן עם מתקנים</td>\n",
       "            <td>1500</td>\n",
       "        </tr>\n",
       "        <tr>\n",
       "            <td>אורן ירושלים</td>\n",
       "            <td>גן העצמאות</td>\n",
       "            <td>20</td>\n",
       "            <td>רחוב העצמאות</td>\n",
       "            <td>פארק נופש פעיל</td>\n",
       "            <td>60000</td>\n",
       "        </tr>\n",
       "        <tr>\n",
       "            <td>אורן ירושלים</td>\n",
       "            <td>כיכר הרכבת</td>\n",
       "            <td>7</td>\n",
       "            <td>כיכר הרכבת</td>\n",
       "            <td>שדרה מרכזית</td>\n",
       "            <td>3000</td>\n",
       "        </tr>\n",
       "        <tr>\n",
       "            <td>אורן ירושלים</td>\n",
       "            <td>כיכר העיריה</td>\n",
       "            <td>8</td>\n",
       "            <td>כיכר העיריה</td>\n",
       "            <td>שדרה מרכזית</td>\n",
       "            <td>5000</td>\n",
       "        </tr>\n",
       "        <tr>\n",
       "            <td>אורן ירושלים</td>\n",
       "            <td>חצר המתנ&quot;ס</td>\n",
       "            <td>10</td>\n",
       "            <td>רחוב הדודאים</td>\n",
       "            <td>גן עם מתקנים</td>\n",
       "            <td>1500</td>\n",
       "        </tr>\n",
       "    </tbody>\n",
       "</table>"
      ],
      "text/plain": [
       "[('זית', 'גן העצמאות', 10, 'רחוב העצמאות', 'פארק נופש פעיל', 60000),\n",
       " ('ברוש', 'גן העצמאות', 30, 'רחוב העצמאות', 'פארק נופש פעיל', 60000),\n",
       " ('חבושית', 'גן העצמאות', 200, 'רחוב העצמאות', 'פארק נופש פעיל', 60000),\n",
       " ('לנטנה לילכית', 'גן העצמאות', 150, 'רחוב העצמאות', 'פארק נופש פעיל', 60000),\n",
       " ('ורד', 'גן העצמאות', 130, 'רחוב העצמאות', 'פארק נופש פעיל', 60000),\n",
       " ('ציפורני חתול', 'גן העצמאות', 250, 'רחוב העצמאות', 'פארק נופש פעיל', 60000),\n",
       " ('חרוב מצוי', 'כיכר הכניסה', 5, 'כיכר הכניסה', 'פארק נופש פעיל', 2500),\n",
       " ('זית', 'כיכר הכניסה', 7, 'כיכר הכניסה', 'פארק נופש פעיל', 2500),\n",
       " ('רוזמרין', 'כיכר הכניסה', 50, 'כיכר הכניסה', 'פארק נופש פעיל', 2500),\n",
       " ('ורד', 'כיכר הכניסה', 50, 'כיכר הכניסה', 'פארק נופש פעיל', 2500),\n",
       " ('ברוש', 'שדרת הראשונים', 100, 'רחוב הראשונים', 'אי תנועה', 1500),\n",
       " ('צבעוני ההרים', 'שדרת הראשונים', 50, 'רחוב הראשונים', 'אי תנועה', 1500),\n",
       " ('ציפורני חתול', 'שדרת הראשונים', 250, 'רחוב הראשונים', 'אי תנועה', 1500),\n",
       " ('ברוש', 'כיכר הרכבת', 2, 'כיכר הרכבת', 'שדרה מרכזית', 3000),\n",
       " ('חבושית', 'כיכר הרכבת', 15, 'כיכר הרכבת', 'שדרה מרכזית', 3000),\n",
       " ('רוזמרין', 'כיכר הרכבת', 20, 'כיכר הרכבת', 'שדרה מרכזית', 3000),\n",
       " ('אחירותם', 'כיכר הרכבת', 10, 'כיכר הרכבת', 'שדרה מרכזית', 3000),\n",
       " ('דולב', 'שדרות הזמיר', 20, 'שדרות הזמיר', 'גן עם מתקנים', 900),\n",
       " ('רוזמרין', 'שדרות הזמיר', 70, 'שדרות הזמיר', 'גן עם מתקנים', 900),\n",
       " ('זית', 'כיכר העיריה', 10, 'כיכר העיריה', 'שדרה מרכזית', 5000),\n",
       " ('ברוש', 'כיכר העיריה', 8, 'כיכר העיריה', 'שדרה מרכזית', 5000),\n",
       " ('ורד', 'כיכר העיריה', 30, 'כיכר העיריה', 'שדרה מרכזית', 5000),\n",
       " ('גפנית', 'כיכר העיריה', 5, 'כיכר העיריה', 'שדרה מרכזית', 5000),\n",
       " ('חבושית', 'גינת הגפן', 20, 'רחוב הארבעה', 'גן עם מתקנים', 3600),\n",
       " ('גפנית', 'גינת הגפן', 5, 'רחוב הארבעה', 'גן עם מתקנים', 3600),\n",
       " ('ציפורני חתול', 'גינת הגפן', 30, 'רחוב הארבעה', 'גן עם מתקנים', 3600),\n",
       " ('דולב', 'הטיילת', 50, 'רחוב הנשיאים', 'גן ציבורי', 10000),\n",
       " ('זית', 'הטיילת', 30, 'רחוב הנשיאים', 'גן ציבורי', 10000),\n",
       " ('רוזמרין', 'הטיילת', 70, 'רחוב הנשיאים', 'גן ציבורי', 10000),\n",
       " ('ורד', 'הטיילת', 80, 'רחוב הנשיאים', 'גן ציבורי', 10000),\n",
       " ('חבושית', 'בריכת המים', 30, 'ירכתי העיר', 'איזור תיירות', 400),\n",
       " ('ציפורני חתול', 'בריכת המים', 80, 'ירכתי העיר', 'איזור תיירות', 400),\n",
       " ('חבושית', 'חצר המתנ\"ס', 20, 'רחוב הדודאים', 'גן עם מתקנים', 1500),\n",
       " ('רוזמרין', 'חצר המתנ\"ס', 15, 'רחוב הדודאים', 'גן עם מתקנים', 1500),\n",
       " ('לנטנה לילכית', 'חצר המתנ\"ס', 10, 'רחוב הדודאים', 'גן עם מתקנים', 1500),\n",
       " ('אורן ירושלים', 'גן העצמאות', 20, 'רחוב העצמאות', 'פארק נופש פעיל', 60000),\n",
       " ('אורן ירושלים', 'כיכר הרכבת', 7, 'כיכר הרכבת', 'שדרה מרכזית', 3000),\n",
       " ('אורן ירושלים', 'כיכר העיריה', 8, 'כיכר העיריה', 'שדרה מרכזית', 5000),\n",
       " ('אורן ירושלים', 'חצר המתנ\"ס', 10, 'רחוב הדודאים', 'גן עם מתקנים', 1500)]"
      ]
     },
     "execution_count": 28,
     "metadata": {},
     "output_type": "execute_result"
    }
   ],
   "source": [
    "%%sql\n",
    "\n",
    "select *\n",
    "from plantingmap natural join area;"
   ]
  },
  {
   "cell_type": "markdown",
   "metadata": {},
   "source": [
    "WRONG - didnt specipid the aname after \"join on...\"\n",
    "```sql\n",
    "%%sql\n",
    "\n",
    "select alocation as CHARUV_planting_spots\n",
    "from plantingmap join area on aname           <=======\n",
    "where pname = 'חרוב מצוי';"
   ]
  },
  {
   "cell_type": "code",
   "execution_count": 31,
   "metadata": {
    "vscode": {
     "languageId": "sql"
    }
   },
   "outputs": [
    {
     "name": "stdout",
     "output_type": "stream",
     "text": [
      " * sqlite:///gardening.db\n",
      "Done.\n"
     ]
    },
    {
     "data": {
      "text/html": [
       "<table>\n",
       "    <thead>\n",
       "        <tr>\n",
       "            <th>CHARUV_planting_spots</th>\n",
       "        </tr>\n",
       "    </thead>\n",
       "    <tbody>\n",
       "        <tr>\n",
       "            <td>כיכר הכניסה</td>\n",
       "        </tr>\n",
       "    </tbody>\n",
       "</table>"
      ],
      "text/plain": [
       "[('כיכר הכניסה',)]"
      ]
     },
     "execution_count": 31,
     "metadata": {},
     "output_type": "execute_result"
    }
   ],
   "source": [
    "%%sql\n",
    "\n",
    "select alocation as CHARUV_planting_spots\n",
    "from plantingmap join area on plantingmap.aname = area.aname\n",
    "where pname = 'חרוב מצוי';"
   ]
  },
  {
   "cell_type": "code",
   "execution_count": 37,
   "metadata": {
    "vscode": {
     "languageId": "sql"
    }
   },
   "outputs": [
    {
     "name": "stdout",
     "output_type": "stream",
     "text": [
      " * sqlite:///gardening.db\n",
      "Done.\n"
     ]
    },
    {
     "data": {
      "text/html": [
       "<table>\n",
       "    <thead>\n",
       "        <tr>\n",
       "            <th>aname</th>\n",
       "            <th>asize</th>\n",
       "            <th>sum(amount)</th>\n",
       "        </tr>\n",
       "    </thead>\n",
       "    <tbody>\n",
       "        <tr>\n",
       "            <td>בריכת המים</td>\n",
       "            <td>400</td>\n",
       "            <td>110</td>\n",
       "        </tr>\n",
       "        <tr>\n",
       "            <td>גינת הגפן</td>\n",
       "            <td>3600</td>\n",
       "            <td>55</td>\n",
       "        </tr>\n",
       "        <tr>\n",
       "            <td>גן העצמאות</td>\n",
       "            <td>60000</td>\n",
       "            <td>790</td>\n",
       "        </tr>\n",
       "        <tr>\n",
       "            <td>הטיילת</td>\n",
       "            <td>10000</td>\n",
       "            <td>230</td>\n",
       "        </tr>\n",
       "        <tr>\n",
       "            <td>חצר המתנ&quot;ס</td>\n",
       "            <td>1500</td>\n",
       "            <td>55</td>\n",
       "        </tr>\n",
       "        <tr>\n",
       "            <td>כיכר הכניסה</td>\n",
       "            <td>2500</td>\n",
       "            <td>112</td>\n",
       "        </tr>\n",
       "        <tr>\n",
       "            <td>כיכר העיריה</td>\n",
       "            <td>5000</td>\n",
       "            <td>61</td>\n",
       "        </tr>\n",
       "        <tr>\n",
       "            <td>כיכר הרכבת</td>\n",
       "            <td>3000</td>\n",
       "            <td>54</td>\n",
       "        </tr>\n",
       "        <tr>\n",
       "            <td>שדרות הזמיר</td>\n",
       "            <td>900</td>\n",
       "            <td>90</td>\n",
       "        </tr>\n",
       "        <tr>\n",
       "            <td>שדרת הראשונים</td>\n",
       "            <td>1500</td>\n",
       "            <td>400</td>\n",
       "        </tr>\n",
       "    </tbody>\n",
       "</table>"
      ],
      "text/plain": [
       "[('בריכת המים', 400, 110),\n",
       " ('גינת הגפן', 3600, 55),\n",
       " ('גן העצמאות', 60000, 790),\n",
       " ('הטיילת', 10000, 230),\n",
       " ('חצר המתנ\"ס', 1500, 55),\n",
       " ('כיכר הכניסה', 2500, 112),\n",
       " ('כיכר העיריה', 5000, 61),\n",
       " ('כיכר הרכבת', 3000, 54),\n",
       " ('שדרות הזמיר', 900, 90),\n",
       " ('שדרת הראשונים', 1500, 400)]"
      ]
     },
     "execution_count": 37,
     "metadata": {},
     "output_type": "execute_result"
    }
   ],
   "source": [
    "%%sql\n",
    "\n",
    "select plantingmap.aname, asize, sum(amount)\n",
    "from plantingmap join area on plantingmap.aname = area.aname\n",
    "group by plantingmap.aname;"
   ]
  }
 ],
 "metadata": {
  "kernelspec": {
   "display_name": "Python 3",
   "language": "python",
   "name": "python3"
  },
  "language_info": {
   "codemirror_mode": {
    "name": "ipython",
    "version": 3
   },
   "file_extension": ".py",
   "mimetype": "text/x-python",
   "name": "python",
   "nbconvert_exporter": "python",
   "pygments_lexer": "ipython3",
   "version": "3.10.12"
  },
  "orig_nbformat": 4
 },
 "nbformat": 4,
 "nbformat_minor": 2
}
